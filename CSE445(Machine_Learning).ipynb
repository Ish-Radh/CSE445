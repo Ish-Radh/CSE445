{
  "nbformat": 4,
  "nbformat_minor": 0,
  "metadata": {
    "colab": {
      "provenance": [],
      "gpuType": "T4"
    },
    "kernelspec": {
      "name": "python3",
      "display_name": "Python 3"
    },
    "language_info": {
      "name": "python"
    },
    "accelerator": "GPU",
    "gpuClass": "standard"
  },
  "cells": [
    {
      "cell_type": "code",
      "execution_count": null,
      "metadata": {
        "colab": {
          "base_uri": "https://localhost:8080/"
        },
        "id": "xJSoB_J8szRM",
        "outputId": "6cfb3d26-3c40-4df6-922c-a7d1c184e93d"
      },
      "outputs": [
        {
          "output_type": "stream",
          "name": "stdout",
          "text": [
            "['.config', 'sample_data']\n"
          ]
        }
      ],
      "source": [
        "import numpy as np\n",
        "import pandas as pd\n",
        "import matplotlib.pyplot as plt\n",
        "import seaborn as sns\n",
        "\n",
        "\n",
        "%matplotlib inline\n",
        "from sklearn.preprocessing import LabelEncoder\n",
        "import os\n",
        "print(os.listdir())\n",
        "\n",
        "import warnings\n",
        "warnings.filterwarnings('ignore')"
      ]
    },
    {
      "cell_type": "markdown",
      "source": [
        "**Machine Learning Models**"
      ],
      "metadata": {
        "id": "YJOO1m5F7999"
      }
    },
    {
      "cell_type": "code",
      "source": [
        "from sklearn.linear_model import LogisticRegression\n",
        "from sklearn.tree import DecisionTreeClassifier\n",
        "from sklearn.neighbors import KNeighborsClassifier\n",
        "from sklearn.naive_bayes import GaussianNB\n",
        "from sklearn.ensemble import AdaBoostRegressor\n",
        "from sklearn.ensemble import RandomForestClassifier\n",
        "from sklearn.svm import SVC ,SVR\n",
        "from sklearn.metrics import *\n",
        "from sklearn.model_selection import GridSearchCV\n",
        "from sklearn import svm\n",
        "\n",
        "\n",
        "\n",
        "import os\n",
        "import numpy as np\n",
        "import pandas as pd\n",
        "from sklearn.preprocessing import LabelEncoder\n",
        "from sklearn.model_selection import train_test_split \n",
        "\n",
        "import matplotlib.pyplot as plt\n",
        "import seaborn as sns\n",
        "import plotly.express as px\n",
        "import plotly.graph_objects as go\n",
        "from plotly.subplots import make_subplots"
      ],
      "metadata": {
        "id": "xn0h2mYIiyNx"
      },
      "execution_count": null,
      "outputs": []
    },
    {
      "cell_type": "code",
      "source": [
        "from matplotlib import pyplot"
      ],
      "metadata": {
        "id": "PGP-Axt5a5jV"
      },
      "execution_count": null,
      "outputs": []
    },
    {
      "cell_type": "code",
      "source": [
        "from sklearn.metrics import roc_curve\n",
        "from sklearn.metrics import roc_auc_score\n"
      ],
      "metadata": {
        "id": "XlUQK3BCGLr3"
      },
      "execution_count": null,
      "outputs": []
    },
    {
      "cell_type": "markdown",
      "source": [
        "**Dataset**"
      ],
      "metadata": {
        "id": "xoKUI97SJsBa"
      }
    },
    {
      "cell_type": "code",
      "source": [
        "data = pd.read_csv(\"heart2.csv\")"
      ],
      "metadata": {
        "id": "TyFjh1xIs3-w"
      },
      "execution_count": null,
      "outputs": []
    },
    {
      "cell_type": "code",
      "source": [
        "type(data)"
      ],
      "metadata": {
        "colab": {
          "base_uri": "https://localhost:8080/"
        },
        "id": "Q1gjVgO-tASY",
        "outputId": "27453988-8382-465a-ab7f-acfc6de7f4ed"
      },
      "execution_count": null,
      "outputs": [
        {
          "output_type": "execute_result",
          "data": {
            "text/plain": [
              "pandas.core.frame.DataFrame"
            ]
          },
          "metadata": {},
          "execution_count": 6
        }
      ]
    },
    {
      "cell_type": "code",
      "source": [
        "data.shape"
      ],
      "metadata": {
        "colab": {
          "base_uri": "https://localhost:8080/"
        },
        "id": "5skTGSIttFb5",
        "outputId": "1bcdc64d-b5cf-4d21-89b1-d9bf63bb97cc"
      },
      "execution_count": null,
      "outputs": [
        {
          "output_type": "execute_result",
          "data": {
            "text/plain": [
              "(1999, 18)"
            ]
          },
          "metadata": {},
          "execution_count": 7
        }
      ]
    },
    {
      "cell_type": "code",
      "source": [
        "data.head(9)"
      ],
      "metadata": {
        "colab": {
          "base_uri": "https://localhost:8080/",
          "height": 430
        },
        "id": "--r7cSsMtJOG",
        "outputId": "eae70572-db8b-415d-c9ed-7b89cd78743b"
      },
      "execution_count": null,
      "outputs": [
        {
          "output_type": "execute_result",
          "data": {
            "text/plain": [
              "  target    BMI Smoking AlcoholDrinking Stroke  PhysicalHealth  MentalHealth  \\\n",
              "0     No  16.60     Yes              No     No               3            30   \n",
              "1     No  20.34      No              No    Yes               0             0   \n",
              "2     No  26.58     Yes              No     No              20            30   \n",
              "3     No  24.21      No              No     No               0             0   \n",
              "4     No  23.71      No              No     No              28             0   \n",
              "5    Yes  28.87     Yes              No     No               6             0   \n",
              "6     No  21.63      No              No     No              15             0   \n",
              "7     No  31.64     Yes              No     No               5             0   \n",
              "8     No  26.45      No              No     No               0             0   \n",
              "\n",
              "  DiffWalking     Sex  AgeCategory   Race                 Diabetic  \\\n",
              "0          No  Female        55-59  White                      Yes   \n",
              "1          No  Female  80 or older  White                       No   \n",
              "2          No    Male        65-69  White                      Yes   \n",
              "3          No  Female        75-79  White                       No   \n",
              "4         Yes  Female        40-44  White                       No   \n",
              "5         Yes  Female        75-79  Black                       No   \n",
              "6          No  Female        70-74  White                       No   \n",
              "7         Yes  Female  80 or older  White                      Yes   \n",
              "8          No  Female  80 or older  White  No, borderline diabetes   \n",
              "\n",
              "  PhysicalActivity  GenHealth  SleepTime Asthma KidneyDisease SkinCancer  \n",
              "0              Yes  Very good          5    Yes            No        Yes  \n",
              "1              Yes  Very good          7     No            No         No  \n",
              "2              Yes       Fair          8    Yes            No         No  \n",
              "3               No       Good          6     No            No        Yes  \n",
              "4              Yes  Very good          8     No            No         No  \n",
              "5               No       Fair         12     No            No         No  \n",
              "6              Yes       Fair          4    Yes            No        Yes  \n",
              "7               No       Good          9    Yes            No         No  \n",
              "8               No       Fair          5     No           Yes         No  "
            ],
            "text/html": [
              "\n",
              "  <div id=\"df-6a55d98c-c9a0-45e1-b654-ce85958c2611\">\n",
              "    <div class=\"colab-df-container\">\n",
              "      <div>\n",
              "<style scoped>\n",
              "    .dataframe tbody tr th:only-of-type {\n",
              "        vertical-align: middle;\n",
              "    }\n",
              "\n",
              "    .dataframe tbody tr th {\n",
              "        vertical-align: top;\n",
              "    }\n",
              "\n",
              "    .dataframe thead th {\n",
              "        text-align: right;\n",
              "    }\n",
              "</style>\n",
              "<table border=\"1\" class=\"dataframe\">\n",
              "  <thead>\n",
              "    <tr style=\"text-align: right;\">\n",
              "      <th></th>\n",
              "      <th>target</th>\n",
              "      <th>BMI</th>\n",
              "      <th>Smoking</th>\n",
              "      <th>AlcoholDrinking</th>\n",
              "      <th>Stroke</th>\n",
              "      <th>PhysicalHealth</th>\n",
              "      <th>MentalHealth</th>\n",
              "      <th>DiffWalking</th>\n",
              "      <th>Sex</th>\n",
              "      <th>AgeCategory</th>\n",
              "      <th>Race</th>\n",
              "      <th>Diabetic</th>\n",
              "      <th>PhysicalActivity</th>\n",
              "      <th>GenHealth</th>\n",
              "      <th>SleepTime</th>\n",
              "      <th>Asthma</th>\n",
              "      <th>KidneyDisease</th>\n",
              "      <th>SkinCancer</th>\n",
              "    </tr>\n",
              "  </thead>\n",
              "  <tbody>\n",
              "    <tr>\n",
              "      <th>0</th>\n",
              "      <td>No</td>\n",
              "      <td>16.60</td>\n",
              "      <td>Yes</td>\n",
              "      <td>No</td>\n",
              "      <td>No</td>\n",
              "      <td>3</td>\n",
              "      <td>30</td>\n",
              "      <td>No</td>\n",
              "      <td>Female</td>\n",
              "      <td>55-59</td>\n",
              "      <td>White</td>\n",
              "      <td>Yes</td>\n",
              "      <td>Yes</td>\n",
              "      <td>Very good</td>\n",
              "      <td>5</td>\n",
              "      <td>Yes</td>\n",
              "      <td>No</td>\n",
              "      <td>Yes</td>\n",
              "    </tr>\n",
              "    <tr>\n",
              "      <th>1</th>\n",
              "      <td>No</td>\n",
              "      <td>20.34</td>\n",
              "      <td>No</td>\n",
              "      <td>No</td>\n",
              "      <td>Yes</td>\n",
              "      <td>0</td>\n",
              "      <td>0</td>\n",
              "      <td>No</td>\n",
              "      <td>Female</td>\n",
              "      <td>80 or older</td>\n",
              "      <td>White</td>\n",
              "      <td>No</td>\n",
              "      <td>Yes</td>\n",
              "      <td>Very good</td>\n",
              "      <td>7</td>\n",
              "      <td>No</td>\n",
              "      <td>No</td>\n",
              "      <td>No</td>\n",
              "    </tr>\n",
              "    <tr>\n",
              "      <th>2</th>\n",
              "      <td>No</td>\n",
              "      <td>26.58</td>\n",
              "      <td>Yes</td>\n",
              "      <td>No</td>\n",
              "      <td>No</td>\n",
              "      <td>20</td>\n",
              "      <td>30</td>\n",
              "      <td>No</td>\n",
              "      <td>Male</td>\n",
              "      <td>65-69</td>\n",
              "      <td>White</td>\n",
              "      <td>Yes</td>\n",
              "      <td>Yes</td>\n",
              "      <td>Fair</td>\n",
              "      <td>8</td>\n",
              "      <td>Yes</td>\n",
              "      <td>No</td>\n",
              "      <td>No</td>\n",
              "    </tr>\n",
              "    <tr>\n",
              "      <th>3</th>\n",
              "      <td>No</td>\n",
              "      <td>24.21</td>\n",
              "      <td>No</td>\n",
              "      <td>No</td>\n",
              "      <td>No</td>\n",
              "      <td>0</td>\n",
              "      <td>0</td>\n",
              "      <td>No</td>\n",
              "      <td>Female</td>\n",
              "      <td>75-79</td>\n",
              "      <td>White</td>\n",
              "      <td>No</td>\n",
              "      <td>No</td>\n",
              "      <td>Good</td>\n",
              "      <td>6</td>\n",
              "      <td>No</td>\n",
              "      <td>No</td>\n",
              "      <td>Yes</td>\n",
              "    </tr>\n",
              "    <tr>\n",
              "      <th>4</th>\n",
              "      <td>No</td>\n",
              "      <td>23.71</td>\n",
              "      <td>No</td>\n",
              "      <td>No</td>\n",
              "      <td>No</td>\n",
              "      <td>28</td>\n",
              "      <td>0</td>\n",
              "      <td>Yes</td>\n",
              "      <td>Female</td>\n",
              "      <td>40-44</td>\n",
              "      <td>White</td>\n",
              "      <td>No</td>\n",
              "      <td>Yes</td>\n",
              "      <td>Very good</td>\n",
              "      <td>8</td>\n",
              "      <td>No</td>\n",
              "      <td>No</td>\n",
              "      <td>No</td>\n",
              "    </tr>\n",
              "    <tr>\n",
              "      <th>5</th>\n",
              "      <td>Yes</td>\n",
              "      <td>28.87</td>\n",
              "      <td>Yes</td>\n",
              "      <td>No</td>\n",
              "      <td>No</td>\n",
              "      <td>6</td>\n",
              "      <td>0</td>\n",
              "      <td>Yes</td>\n",
              "      <td>Female</td>\n",
              "      <td>75-79</td>\n",
              "      <td>Black</td>\n",
              "      <td>No</td>\n",
              "      <td>No</td>\n",
              "      <td>Fair</td>\n",
              "      <td>12</td>\n",
              "      <td>No</td>\n",
              "      <td>No</td>\n",
              "      <td>No</td>\n",
              "    </tr>\n",
              "    <tr>\n",
              "      <th>6</th>\n",
              "      <td>No</td>\n",
              "      <td>21.63</td>\n",
              "      <td>No</td>\n",
              "      <td>No</td>\n",
              "      <td>No</td>\n",
              "      <td>15</td>\n",
              "      <td>0</td>\n",
              "      <td>No</td>\n",
              "      <td>Female</td>\n",
              "      <td>70-74</td>\n",
              "      <td>White</td>\n",
              "      <td>No</td>\n",
              "      <td>Yes</td>\n",
              "      <td>Fair</td>\n",
              "      <td>4</td>\n",
              "      <td>Yes</td>\n",
              "      <td>No</td>\n",
              "      <td>Yes</td>\n",
              "    </tr>\n",
              "    <tr>\n",
              "      <th>7</th>\n",
              "      <td>No</td>\n",
              "      <td>31.64</td>\n",
              "      <td>Yes</td>\n",
              "      <td>No</td>\n",
              "      <td>No</td>\n",
              "      <td>5</td>\n",
              "      <td>0</td>\n",
              "      <td>Yes</td>\n",
              "      <td>Female</td>\n",
              "      <td>80 or older</td>\n",
              "      <td>White</td>\n",
              "      <td>Yes</td>\n",
              "      <td>No</td>\n",
              "      <td>Good</td>\n",
              "      <td>9</td>\n",
              "      <td>Yes</td>\n",
              "      <td>No</td>\n",
              "      <td>No</td>\n",
              "    </tr>\n",
              "    <tr>\n",
              "      <th>8</th>\n",
              "      <td>No</td>\n",
              "      <td>26.45</td>\n",
              "      <td>No</td>\n",
              "      <td>No</td>\n",
              "      <td>No</td>\n",
              "      <td>0</td>\n",
              "      <td>0</td>\n",
              "      <td>No</td>\n",
              "      <td>Female</td>\n",
              "      <td>80 or older</td>\n",
              "      <td>White</td>\n",
              "      <td>No, borderline diabetes</td>\n",
              "      <td>No</td>\n",
              "      <td>Fair</td>\n",
              "      <td>5</td>\n",
              "      <td>No</td>\n",
              "      <td>Yes</td>\n",
              "      <td>No</td>\n",
              "    </tr>\n",
              "  </tbody>\n",
              "</table>\n",
              "</div>\n",
              "      <button class=\"colab-df-convert\" onclick=\"convertToInteractive('df-6a55d98c-c9a0-45e1-b654-ce85958c2611')\"\n",
              "              title=\"Convert this dataframe to an interactive table.\"\n",
              "              style=\"display:none;\">\n",
              "        \n",
              "  <svg xmlns=\"http://www.w3.org/2000/svg\" height=\"24px\"viewBox=\"0 0 24 24\"\n",
              "       width=\"24px\">\n",
              "    <path d=\"M0 0h24v24H0V0z\" fill=\"none\"/>\n",
              "    <path d=\"M18.56 5.44l.94 2.06.94-2.06 2.06-.94-2.06-.94-.94-2.06-.94 2.06-2.06.94zm-11 1L8.5 8.5l.94-2.06 2.06-.94-2.06-.94L8.5 2.5l-.94 2.06-2.06.94zm10 10l.94 2.06.94-2.06 2.06-.94-2.06-.94-.94-2.06-.94 2.06-2.06.94z\"/><path d=\"M17.41 7.96l-1.37-1.37c-.4-.4-.92-.59-1.43-.59-.52 0-1.04.2-1.43.59L10.3 9.45l-7.72 7.72c-.78.78-.78 2.05 0 2.83L4 21.41c.39.39.9.59 1.41.59.51 0 1.02-.2 1.41-.59l7.78-7.78 2.81-2.81c.8-.78.8-2.07 0-2.86zM5.41 20L4 18.59l7.72-7.72 1.47 1.35L5.41 20z\"/>\n",
              "  </svg>\n",
              "      </button>\n",
              "      \n",
              "  <style>\n",
              "    .colab-df-container {\n",
              "      display:flex;\n",
              "      flex-wrap:wrap;\n",
              "      gap: 12px;\n",
              "    }\n",
              "\n",
              "    .colab-df-convert {\n",
              "      background-color: #E8F0FE;\n",
              "      border: none;\n",
              "      border-radius: 50%;\n",
              "      cursor: pointer;\n",
              "      display: none;\n",
              "      fill: #1967D2;\n",
              "      height: 32px;\n",
              "      padding: 0 0 0 0;\n",
              "      width: 32px;\n",
              "    }\n",
              "\n",
              "    .colab-df-convert:hover {\n",
              "      background-color: #E2EBFA;\n",
              "      box-shadow: 0px 1px 2px rgba(60, 64, 67, 0.3), 0px 1px 3px 1px rgba(60, 64, 67, 0.15);\n",
              "      fill: #174EA6;\n",
              "    }\n",
              "\n",
              "    [theme=dark] .colab-df-convert {\n",
              "      background-color: #3B4455;\n",
              "      fill: #D2E3FC;\n",
              "    }\n",
              "\n",
              "    [theme=dark] .colab-df-convert:hover {\n",
              "      background-color: #434B5C;\n",
              "      box-shadow: 0px 1px 3px 1px rgba(0, 0, 0, 0.15);\n",
              "      filter: drop-shadow(0px 1px 2px rgba(0, 0, 0, 0.3));\n",
              "      fill: #FFFFFF;\n",
              "    }\n",
              "  </style>\n",
              "\n",
              "      <script>\n",
              "        const buttonEl =\n",
              "          document.querySelector('#df-6a55d98c-c9a0-45e1-b654-ce85958c2611 button.colab-df-convert');\n",
              "        buttonEl.style.display =\n",
              "          google.colab.kernel.accessAllowed ? 'block' : 'none';\n",
              "\n",
              "        async function convertToInteractive(key) {\n",
              "          const element = document.querySelector('#df-6a55d98c-c9a0-45e1-b654-ce85958c2611');\n",
              "          const dataTable =\n",
              "            await google.colab.kernel.invokeFunction('convertToInteractive',\n",
              "                                                     [key], {});\n",
              "          if (!dataTable) return;\n",
              "\n",
              "          const docLinkHtml = 'Like what you see? Visit the ' +\n",
              "            '<a target=\"_blank\" href=https://colab.research.google.com/notebooks/data_table.ipynb>data table notebook</a>'\n",
              "            + ' to learn more about interactive tables.';\n",
              "          element.innerHTML = '';\n",
              "          dataTable['output_type'] = 'display_data';\n",
              "          await google.colab.output.renderOutput(dataTable, element);\n",
              "          const docLink = document.createElement('div');\n",
              "          docLink.innerHTML = docLinkHtml;\n",
              "          element.appendChild(docLink);\n",
              "        }\n",
              "      </script>\n",
              "    </div>\n",
              "  </div>\n",
              "  "
            ]
          },
          "metadata": {},
          "execution_count": 8
        }
      ]
    },
    {
      "cell_type": "code",
      "source": [
        "data.sample(5)"
      ],
      "metadata": {
        "colab": {
          "base_uri": "https://localhost:8080/",
          "height": 270
        },
        "id": "YNL63QOjtN5f",
        "outputId": "a2d8cc6d-915d-4d36-f809-39dea54a7dc0"
      },
      "execution_count": null,
      "outputs": [
        {
          "output_type": "execute_result",
          "data": {
            "text/plain": [
              "     target    BMI Smoking AlcoholDrinking Stroke  PhysicalHealth  \\\n",
              "854      No  19.84     Yes              No     No               0   \n",
              "672      No  34.54      No              No     No               0   \n",
              "1980     No  27.44      No              No     No               0   \n",
              "501      No  27.50      No              No     No               5   \n",
              "335      No  30.18     Yes              No     No              30   \n",
              "\n",
              "      MentalHealth DiffWalking     Sex AgeCategory   Race Diabetic  \\\n",
              "854              0          No  Female       55-59  White      Yes   \n",
              "672              0          No  Female       60-64  Black       No   \n",
              "1980             0          No  Female       65-69  White       No   \n",
              "501              6          No    Male       18-24  White       No   \n",
              "335              0          No  Female       55-59  White      Yes   \n",
              "\n",
              "     PhysicalActivity  GenHealth  SleepTime Asthma KidneyDisease SkinCancer  \n",
              "854                No  Excellent         10     No            No         No  \n",
              "672               Yes  Very good          8     No            No         No  \n",
              "1980               No  Very good          8     No            No         No  \n",
              "501               Yes  Excellent          8     No            No         No  \n",
              "335               Yes       Good          8     No            No         No  "
            ],
            "text/html": [
              "\n",
              "  <div id=\"df-5f2a8752-e585-4e2d-af5a-dfff8d20e1a7\">\n",
              "    <div class=\"colab-df-container\">\n",
              "      <div>\n",
              "<style scoped>\n",
              "    .dataframe tbody tr th:only-of-type {\n",
              "        vertical-align: middle;\n",
              "    }\n",
              "\n",
              "    .dataframe tbody tr th {\n",
              "        vertical-align: top;\n",
              "    }\n",
              "\n",
              "    .dataframe thead th {\n",
              "        text-align: right;\n",
              "    }\n",
              "</style>\n",
              "<table border=\"1\" class=\"dataframe\">\n",
              "  <thead>\n",
              "    <tr style=\"text-align: right;\">\n",
              "      <th></th>\n",
              "      <th>target</th>\n",
              "      <th>BMI</th>\n",
              "      <th>Smoking</th>\n",
              "      <th>AlcoholDrinking</th>\n",
              "      <th>Stroke</th>\n",
              "      <th>PhysicalHealth</th>\n",
              "      <th>MentalHealth</th>\n",
              "      <th>DiffWalking</th>\n",
              "      <th>Sex</th>\n",
              "      <th>AgeCategory</th>\n",
              "      <th>Race</th>\n",
              "      <th>Diabetic</th>\n",
              "      <th>PhysicalActivity</th>\n",
              "      <th>GenHealth</th>\n",
              "      <th>SleepTime</th>\n",
              "      <th>Asthma</th>\n",
              "      <th>KidneyDisease</th>\n",
              "      <th>SkinCancer</th>\n",
              "    </tr>\n",
              "  </thead>\n",
              "  <tbody>\n",
              "    <tr>\n",
              "      <th>854</th>\n",
              "      <td>No</td>\n",
              "      <td>19.84</td>\n",
              "      <td>Yes</td>\n",
              "      <td>No</td>\n",
              "      <td>No</td>\n",
              "      <td>0</td>\n",
              "      <td>0</td>\n",
              "      <td>No</td>\n",
              "      <td>Female</td>\n",
              "      <td>55-59</td>\n",
              "      <td>White</td>\n",
              "      <td>Yes</td>\n",
              "      <td>No</td>\n",
              "      <td>Excellent</td>\n",
              "      <td>10</td>\n",
              "      <td>No</td>\n",
              "      <td>No</td>\n",
              "      <td>No</td>\n",
              "    </tr>\n",
              "    <tr>\n",
              "      <th>672</th>\n",
              "      <td>No</td>\n",
              "      <td>34.54</td>\n",
              "      <td>No</td>\n",
              "      <td>No</td>\n",
              "      <td>No</td>\n",
              "      <td>0</td>\n",
              "      <td>0</td>\n",
              "      <td>No</td>\n",
              "      <td>Female</td>\n",
              "      <td>60-64</td>\n",
              "      <td>Black</td>\n",
              "      <td>No</td>\n",
              "      <td>Yes</td>\n",
              "      <td>Very good</td>\n",
              "      <td>8</td>\n",
              "      <td>No</td>\n",
              "      <td>No</td>\n",
              "      <td>No</td>\n",
              "    </tr>\n",
              "    <tr>\n",
              "      <th>1980</th>\n",
              "      <td>No</td>\n",
              "      <td>27.44</td>\n",
              "      <td>No</td>\n",
              "      <td>No</td>\n",
              "      <td>No</td>\n",
              "      <td>0</td>\n",
              "      <td>0</td>\n",
              "      <td>No</td>\n",
              "      <td>Female</td>\n",
              "      <td>65-69</td>\n",
              "      <td>White</td>\n",
              "      <td>No</td>\n",
              "      <td>No</td>\n",
              "      <td>Very good</td>\n",
              "      <td>8</td>\n",
              "      <td>No</td>\n",
              "      <td>No</td>\n",
              "      <td>No</td>\n",
              "    </tr>\n",
              "    <tr>\n",
              "      <th>501</th>\n",
              "      <td>No</td>\n",
              "      <td>27.50</td>\n",
              "      <td>No</td>\n",
              "      <td>No</td>\n",
              "      <td>No</td>\n",
              "      <td>5</td>\n",
              "      <td>6</td>\n",
              "      <td>No</td>\n",
              "      <td>Male</td>\n",
              "      <td>18-24</td>\n",
              "      <td>White</td>\n",
              "      <td>No</td>\n",
              "      <td>Yes</td>\n",
              "      <td>Excellent</td>\n",
              "      <td>8</td>\n",
              "      <td>No</td>\n",
              "      <td>No</td>\n",
              "      <td>No</td>\n",
              "    </tr>\n",
              "    <tr>\n",
              "      <th>335</th>\n",
              "      <td>No</td>\n",
              "      <td>30.18</td>\n",
              "      <td>Yes</td>\n",
              "      <td>No</td>\n",
              "      <td>No</td>\n",
              "      <td>30</td>\n",
              "      <td>0</td>\n",
              "      <td>No</td>\n",
              "      <td>Female</td>\n",
              "      <td>55-59</td>\n",
              "      <td>White</td>\n",
              "      <td>Yes</td>\n",
              "      <td>Yes</td>\n",
              "      <td>Good</td>\n",
              "      <td>8</td>\n",
              "      <td>No</td>\n",
              "      <td>No</td>\n",
              "      <td>No</td>\n",
              "    </tr>\n",
              "  </tbody>\n",
              "</table>\n",
              "</div>\n",
              "      <button class=\"colab-df-convert\" onclick=\"convertToInteractive('df-5f2a8752-e585-4e2d-af5a-dfff8d20e1a7')\"\n",
              "              title=\"Convert this dataframe to an interactive table.\"\n",
              "              style=\"display:none;\">\n",
              "        \n",
              "  <svg xmlns=\"http://www.w3.org/2000/svg\" height=\"24px\"viewBox=\"0 0 24 24\"\n",
              "       width=\"24px\">\n",
              "    <path d=\"M0 0h24v24H0V0z\" fill=\"none\"/>\n",
              "    <path d=\"M18.56 5.44l.94 2.06.94-2.06 2.06-.94-2.06-.94-.94-2.06-.94 2.06-2.06.94zm-11 1L8.5 8.5l.94-2.06 2.06-.94-2.06-.94L8.5 2.5l-.94 2.06-2.06.94zm10 10l.94 2.06.94-2.06 2.06-.94-2.06-.94-.94-2.06-.94 2.06-2.06.94z\"/><path d=\"M17.41 7.96l-1.37-1.37c-.4-.4-.92-.59-1.43-.59-.52 0-1.04.2-1.43.59L10.3 9.45l-7.72 7.72c-.78.78-.78 2.05 0 2.83L4 21.41c.39.39.9.59 1.41.59.51 0 1.02-.2 1.41-.59l7.78-7.78 2.81-2.81c.8-.78.8-2.07 0-2.86zM5.41 20L4 18.59l7.72-7.72 1.47 1.35L5.41 20z\"/>\n",
              "  </svg>\n",
              "      </button>\n",
              "      \n",
              "  <style>\n",
              "    .colab-df-container {\n",
              "      display:flex;\n",
              "      flex-wrap:wrap;\n",
              "      gap: 12px;\n",
              "    }\n",
              "\n",
              "    .colab-df-convert {\n",
              "      background-color: #E8F0FE;\n",
              "      border: none;\n",
              "      border-radius: 50%;\n",
              "      cursor: pointer;\n",
              "      display: none;\n",
              "      fill: #1967D2;\n",
              "      height: 32px;\n",
              "      padding: 0 0 0 0;\n",
              "      width: 32px;\n",
              "    }\n",
              "\n",
              "    .colab-df-convert:hover {\n",
              "      background-color: #E2EBFA;\n",
              "      box-shadow: 0px 1px 2px rgba(60, 64, 67, 0.3), 0px 1px 3px 1px rgba(60, 64, 67, 0.15);\n",
              "      fill: #174EA6;\n",
              "    }\n",
              "\n",
              "    [theme=dark] .colab-df-convert {\n",
              "      background-color: #3B4455;\n",
              "      fill: #D2E3FC;\n",
              "    }\n",
              "\n",
              "    [theme=dark] .colab-df-convert:hover {\n",
              "      background-color: #434B5C;\n",
              "      box-shadow: 0px 1px 3px 1px rgba(0, 0, 0, 0.15);\n",
              "      filter: drop-shadow(0px 1px 2px rgba(0, 0, 0, 0.3));\n",
              "      fill: #FFFFFF;\n",
              "    }\n",
              "  </style>\n",
              "\n",
              "      <script>\n",
              "        const buttonEl =\n",
              "          document.querySelector('#df-5f2a8752-e585-4e2d-af5a-dfff8d20e1a7 button.colab-df-convert');\n",
              "        buttonEl.style.display =\n",
              "          google.colab.kernel.accessAllowed ? 'block' : 'none';\n",
              "\n",
              "        async function convertToInteractive(key) {\n",
              "          const element = document.querySelector('#df-5f2a8752-e585-4e2d-af5a-dfff8d20e1a7');\n",
              "          const dataTable =\n",
              "            await google.colab.kernel.invokeFunction('convertToInteractive',\n",
              "                                                     [key], {});\n",
              "          if (!dataTable) return;\n",
              "\n",
              "          const docLinkHtml = 'Like what you see? Visit the ' +\n",
              "            '<a target=\"_blank\" href=https://colab.research.google.com/notebooks/data_table.ipynb>data table notebook</a>'\n",
              "            + ' to learn more about interactive tables.';\n",
              "          element.innerHTML = '';\n",
              "          dataTable['output_type'] = 'display_data';\n",
              "          await google.colab.output.renderOutput(dataTable, element);\n",
              "          const docLink = document.createElement('div');\n",
              "          docLink.innerHTML = docLinkHtml;\n",
              "          element.appendChild(docLink);\n",
              "        }\n",
              "      </script>\n",
              "    </div>\n",
              "  </div>\n",
              "  "
            ]
          },
          "metadata": {},
          "execution_count": 9
        }
      ]
    },
    {
      "cell_type": "code",
      "source": [
        "data.describe()"
      ],
      "metadata": {
        "colab": {
          "base_uri": "https://localhost:8080/",
          "height": 300
        },
        "id": "qksNAk3itR_4",
        "outputId": "16338f1e-c642-4c9d-b296-c426e390c7bd"
      },
      "execution_count": null,
      "outputs": [
        {
          "output_type": "execute_result",
          "data": {
            "text/plain": [
              "               BMI  PhysicalHealth  MentalHealth    SleepTime\n",
              "count  1999.000000     1999.000000   1999.000000  1999.000000\n",
              "mean     29.223062        4.448224      3.825413     7.137569\n",
              "std       6.497061        8.859214      7.997937     1.622102\n",
              "min      12.480000        0.000000      0.000000     1.000000\n",
              "25%      24.800000        0.000000      0.000000     6.000000\n",
              "50%      28.250000        0.000000      0.000000     7.000000\n",
              "75%      32.905000        3.000000      3.000000     8.000000\n",
              "max      75.820000       30.000000     30.000000    18.000000"
            ],
            "text/html": [
              "\n",
              "  <div id=\"df-974e078e-1f04-40d0-a90f-04bccc6066f1\">\n",
              "    <div class=\"colab-df-container\">\n",
              "      <div>\n",
              "<style scoped>\n",
              "    .dataframe tbody tr th:only-of-type {\n",
              "        vertical-align: middle;\n",
              "    }\n",
              "\n",
              "    .dataframe tbody tr th {\n",
              "        vertical-align: top;\n",
              "    }\n",
              "\n",
              "    .dataframe thead th {\n",
              "        text-align: right;\n",
              "    }\n",
              "</style>\n",
              "<table border=\"1\" class=\"dataframe\">\n",
              "  <thead>\n",
              "    <tr style=\"text-align: right;\">\n",
              "      <th></th>\n",
              "      <th>BMI</th>\n",
              "      <th>PhysicalHealth</th>\n",
              "      <th>MentalHealth</th>\n",
              "      <th>SleepTime</th>\n",
              "    </tr>\n",
              "  </thead>\n",
              "  <tbody>\n",
              "    <tr>\n",
              "      <th>count</th>\n",
              "      <td>1999.000000</td>\n",
              "      <td>1999.000000</td>\n",
              "      <td>1999.000000</td>\n",
              "      <td>1999.000000</td>\n",
              "    </tr>\n",
              "    <tr>\n",
              "      <th>mean</th>\n",
              "      <td>29.223062</td>\n",
              "      <td>4.448224</td>\n",
              "      <td>3.825413</td>\n",
              "      <td>7.137569</td>\n",
              "    </tr>\n",
              "    <tr>\n",
              "      <th>std</th>\n",
              "      <td>6.497061</td>\n",
              "      <td>8.859214</td>\n",
              "      <td>7.997937</td>\n",
              "      <td>1.622102</td>\n",
              "    </tr>\n",
              "    <tr>\n",
              "      <th>min</th>\n",
              "      <td>12.480000</td>\n",
              "      <td>0.000000</td>\n",
              "      <td>0.000000</td>\n",
              "      <td>1.000000</td>\n",
              "    </tr>\n",
              "    <tr>\n",
              "      <th>25%</th>\n",
              "      <td>24.800000</td>\n",
              "      <td>0.000000</td>\n",
              "      <td>0.000000</td>\n",
              "      <td>6.000000</td>\n",
              "    </tr>\n",
              "    <tr>\n",
              "      <th>50%</th>\n",
              "      <td>28.250000</td>\n",
              "      <td>0.000000</td>\n",
              "      <td>0.000000</td>\n",
              "      <td>7.000000</td>\n",
              "    </tr>\n",
              "    <tr>\n",
              "      <th>75%</th>\n",
              "      <td>32.905000</td>\n",
              "      <td>3.000000</td>\n",
              "      <td>3.000000</td>\n",
              "      <td>8.000000</td>\n",
              "    </tr>\n",
              "    <tr>\n",
              "      <th>max</th>\n",
              "      <td>75.820000</td>\n",
              "      <td>30.000000</td>\n",
              "      <td>30.000000</td>\n",
              "      <td>18.000000</td>\n",
              "    </tr>\n",
              "  </tbody>\n",
              "</table>\n",
              "</div>\n",
              "      <button class=\"colab-df-convert\" onclick=\"convertToInteractive('df-974e078e-1f04-40d0-a90f-04bccc6066f1')\"\n",
              "              title=\"Convert this dataframe to an interactive table.\"\n",
              "              style=\"display:none;\">\n",
              "        \n",
              "  <svg xmlns=\"http://www.w3.org/2000/svg\" height=\"24px\"viewBox=\"0 0 24 24\"\n",
              "       width=\"24px\">\n",
              "    <path d=\"M0 0h24v24H0V0z\" fill=\"none\"/>\n",
              "    <path d=\"M18.56 5.44l.94 2.06.94-2.06 2.06-.94-2.06-.94-.94-2.06-.94 2.06-2.06.94zm-11 1L8.5 8.5l.94-2.06 2.06-.94-2.06-.94L8.5 2.5l-.94 2.06-2.06.94zm10 10l.94 2.06.94-2.06 2.06-.94-2.06-.94-.94-2.06-.94 2.06-2.06.94z\"/><path d=\"M17.41 7.96l-1.37-1.37c-.4-.4-.92-.59-1.43-.59-.52 0-1.04.2-1.43.59L10.3 9.45l-7.72 7.72c-.78.78-.78 2.05 0 2.83L4 21.41c.39.39.9.59 1.41.59.51 0 1.02-.2 1.41-.59l7.78-7.78 2.81-2.81c.8-.78.8-2.07 0-2.86zM5.41 20L4 18.59l7.72-7.72 1.47 1.35L5.41 20z\"/>\n",
              "  </svg>\n",
              "      </button>\n",
              "      \n",
              "  <style>\n",
              "    .colab-df-container {\n",
              "      display:flex;\n",
              "      flex-wrap:wrap;\n",
              "      gap: 12px;\n",
              "    }\n",
              "\n",
              "    .colab-df-convert {\n",
              "      background-color: #E8F0FE;\n",
              "      border: none;\n",
              "      border-radius: 50%;\n",
              "      cursor: pointer;\n",
              "      display: none;\n",
              "      fill: #1967D2;\n",
              "      height: 32px;\n",
              "      padding: 0 0 0 0;\n",
              "      width: 32px;\n",
              "    }\n",
              "\n",
              "    .colab-df-convert:hover {\n",
              "      background-color: #E2EBFA;\n",
              "      box-shadow: 0px 1px 2px rgba(60, 64, 67, 0.3), 0px 1px 3px 1px rgba(60, 64, 67, 0.15);\n",
              "      fill: #174EA6;\n",
              "    }\n",
              "\n",
              "    [theme=dark] .colab-df-convert {\n",
              "      background-color: #3B4455;\n",
              "      fill: #D2E3FC;\n",
              "    }\n",
              "\n",
              "    [theme=dark] .colab-df-convert:hover {\n",
              "      background-color: #434B5C;\n",
              "      box-shadow: 0px 1px 3px 1px rgba(0, 0, 0, 0.15);\n",
              "      filter: drop-shadow(0px 1px 2px rgba(0, 0, 0, 0.3));\n",
              "      fill: #FFFFFF;\n",
              "    }\n",
              "  </style>\n",
              "\n",
              "      <script>\n",
              "        const buttonEl =\n",
              "          document.querySelector('#df-974e078e-1f04-40d0-a90f-04bccc6066f1 button.colab-df-convert');\n",
              "        buttonEl.style.display =\n",
              "          google.colab.kernel.accessAllowed ? 'block' : 'none';\n",
              "\n",
              "        async function convertToInteractive(key) {\n",
              "          const element = document.querySelector('#df-974e078e-1f04-40d0-a90f-04bccc6066f1');\n",
              "          const dataTable =\n",
              "            await google.colab.kernel.invokeFunction('convertToInteractive',\n",
              "                                                     [key], {});\n",
              "          if (!dataTable) return;\n",
              "\n",
              "          const docLinkHtml = 'Like what you see? Visit the ' +\n",
              "            '<a target=\"_blank\" href=https://colab.research.google.com/notebooks/data_table.ipynb>data table notebook</a>'\n",
              "            + ' to learn more about interactive tables.';\n",
              "          element.innerHTML = '';\n",
              "          dataTable['output_type'] = 'display_data';\n",
              "          await google.colab.output.renderOutput(dataTable, element);\n",
              "          const docLink = document.createElement('div');\n",
              "          docLink.innerHTML = docLinkHtml;\n",
              "          element.appendChild(docLink);\n",
              "        }\n",
              "      </script>\n",
              "    </div>\n",
              "  </div>\n",
              "  "
            ]
          },
          "metadata": {},
          "execution_count": 10
        }
      ]
    },
    {
      "cell_type": "code",
      "source": [
        "data.info()"
      ],
      "metadata": {
        "colab": {
          "base_uri": "https://localhost:8080/"
        },
        "id": "n8P90-hQtVx2",
        "outputId": "d2d6884b-8392-465a-bade-0a9127a66187"
      },
      "execution_count": null,
      "outputs": [
        {
          "output_type": "stream",
          "name": "stdout",
          "text": [
            "<class 'pandas.core.frame.DataFrame'>\n",
            "RangeIndex: 1999 entries, 0 to 1998\n",
            "Data columns (total 18 columns):\n",
            " #   Column            Non-Null Count  Dtype  \n",
            "---  ------            --------------  -----  \n",
            " 0   target            1999 non-null   object \n",
            " 1   BMI               1999 non-null   float64\n",
            " 2   Smoking           1999 non-null   object \n",
            " 3   AlcoholDrinking   1999 non-null   object \n",
            " 4   Stroke            1999 non-null   object \n",
            " 5   PhysicalHealth    1999 non-null   int64  \n",
            " 6   MentalHealth      1999 non-null   int64  \n",
            " 7   DiffWalking       1999 non-null   object \n",
            " 8   Sex               1999 non-null   object \n",
            " 9   AgeCategory       1999 non-null   object \n",
            " 10  Race              1999 non-null   object \n",
            " 11  Diabetic          1999 non-null   object \n",
            " 12  PhysicalActivity  1999 non-null   object \n",
            " 13  GenHealth         1999 non-null   object \n",
            " 14  SleepTime         1999 non-null   int64  \n",
            " 15  Asthma            1999 non-null   object \n",
            " 16  KidneyDisease     1999 non-null   object \n",
            " 17  SkinCancer        1999 non-null   object \n",
            "dtypes: float64(1), int64(3), object(14)\n",
            "memory usage: 281.2+ KB\n"
          ]
        }
      ]
    },
    {
      "cell_type": "markdown",
      "source": [
        "**Checking for any null values or duplicated rows**"
      ],
      "metadata": {
        "id": "SbSnqSIFXpfX"
      }
    },
    {
      "cell_type": "code",
      "source": [
        "data.isnull().sum()"
      ],
      "metadata": {
        "colab": {
          "base_uri": "https://localhost:8080/"
        },
        "id": "S7IWGIF2XWc3",
        "outputId": "b6084c98-e48e-4b95-a29c-0342b7f15a7f"
      },
      "execution_count": null,
      "outputs": [
        {
          "output_type": "execute_result",
          "data": {
            "text/plain": [
              "target              0\n",
              "BMI                 0\n",
              "Smoking             0\n",
              "AlcoholDrinking     0\n",
              "Stroke              0\n",
              "PhysicalHealth      0\n",
              "MentalHealth        0\n",
              "DiffWalking         0\n",
              "Sex                 0\n",
              "AgeCategory         0\n",
              "Race                0\n",
              "Diabetic            0\n",
              "PhysicalActivity    0\n",
              "GenHealth           0\n",
              "SleepTime           0\n",
              "Asthma              0\n",
              "KidneyDisease       0\n",
              "SkinCancer          0\n",
              "dtype: int64"
            ]
          },
          "metadata": {},
          "execution_count": 12
        }
      ]
    },
    {
      "cell_type": "code",
      "source": [
        "data = pd.read_csv('./heart2.csv')\n",
        "distinct_count = len(data.drop_duplicates())\n",
        "duplicate_count = len(data) - distinct_count\n",
        "f'{distinct_count} distinct rows and {duplicate_count} duplicated rows'"
      ],
      "metadata": {
        "colab": {
          "base_uri": "https://localhost:8080/",
          "height": 35
        },
        "id": "LKA-Gt2nXDu2",
        "outputId": "1a837308-32ab-4be3-b5f1-40cfb7ebe55a"
      },
      "execution_count": null,
      "outputs": [
        {
          "output_type": "execute_result",
          "data": {
            "text/plain": [
              "'1999 distinct rows and 0 duplicated rows'"
            ],
            "application/vnd.google.colaboratory.intrinsic+json": {
              "type": "string"
            }
          },
          "metadata": {},
          "execution_count": 13
        }
      ]
    },
    {
      "cell_type": "markdown",
      "source": [
        "**How many target variable are there**"
      ],
      "metadata": {
        "id": "UayGH2CYXwzy"
      }
    },
    {
      "cell_type": "code",
      "source": [
        "data[\"target\"].unique()"
      ],
      "metadata": {
        "colab": {
          "base_uri": "https://localhost:8080/"
        },
        "id": "JvRjyfCBtkAg",
        "outputId": "8358bd0a-bd59-4430-ad04-f0ee519e6199"
      },
      "execution_count": null,
      "outputs": [
        {
          "output_type": "execute_result",
          "data": {
            "text/plain": [
              "array(['No', 'Yes'], dtype=object)"
            ]
          },
          "metadata": {},
          "execution_count": 14
        }
      ]
    },
    {
      "cell_type": "markdown",
      "source": [
        "**The number of people who have Heart Disease(1) and the ones who doesn't have Heart Disease**"
      ],
      "metadata": {
        "id": "F9xrtKn8X9IO"
      }
    },
    {
      "cell_type": "code",
      "source": [
        "\n",
        "\n",
        "\n",
        "target_temp = data.target.value_counts()\n",
        "\n",
        "print(target_temp)"
      ],
      "metadata": {
        "colab": {
          "base_uri": "https://localhost:8080/"
        },
        "id": "n-IBg7z3tuub",
        "outputId": "e234673c-6fa8-43f1-a798-292caa0c131e"
      },
      "execution_count": null,
      "outputs": [
        {
          "output_type": "stream",
          "name": "stdout",
          "text": [
            "No     1745\n",
            "Yes     254\n",
            "Name: target, dtype: int64\n"
          ]
        }
      ]
    },
    {
      "cell_type": "markdown",
      "source": [
        "**AgeCategory shouldn't be categorical,a function to calculate the mean age and make it a continuous feature**"
      ],
      "metadata": {
        "id": "Uz7YPLyi8fPt"
      }
    },
    {
      "cell_type": "code",
      "source": [
        "encode_AgeCategory = {'55-59':57, '80 or older':80, '65-69':67,\n",
        "                      '75-79':77,'40-44':42,'70-74':72,'60-64':62,\n",
        "                      '50-54':52,'45-49':47,'18-24':21,'35-39':37,\n",
        "                      '30-34':32,'25-29':27}\n",
        "data['AgeCategory'] = data['AgeCategory'].apply(lambda x: encode_AgeCategory[x])\n",
        "data['AgeCategory'] = data['AgeCategory'].astype('float')"
      ],
      "metadata": {
        "id": "qEa-BYIphZNt"
      },
      "execution_count": null,
      "outputs": []
    },
    {
      "cell_type": "markdown",
      "source": [
        "**Scatter plot**"
      ],
      "metadata": {
        "id": "mvHp-kyzAqrw"
      }
    },
    {
      "cell_type": "code",
      "source": [
        "\n",
        "from numpy import where\n",
        "from collections import Counter\n",
        "from sklearn.datasets import make_blobs\n",
        "from matplotlib import pyplot\n",
        "# define dataset\n",
        "X, y = make_blobs(n_samples=1999, centers=2, random_state=1)\n",
        "# summarize dataset shape\n",
        "print(X.shape, y.shape)\n",
        "# summarize observations by class label\n",
        "counter = Counter(y)\n",
        "print(counter)\n",
        "# summarize first few examples\n",
        "for i in range(10):\n",
        " print(X[i], y[i])\n",
        "# plot the dataset and color the by class label\n",
        "for label, _ in counter.items():\n",
        " row_ix = where(y == label)[0]\n",
        " pyplot.scatter(X[row_ix, 0], X[row_ix, 1], label=str(label))\n",
        "pyplot.legend()\n",
        "pyplot.show()"
      ],
      "metadata": {
        "colab": {
          "base_uri": "https://localhost:8080/",
          "height": 638
        },
        "id": "QXld2oUmdvZd",
        "outputId": "b68ac349-75e0-40f6-a199-85912947ff3e"
      },
      "execution_count": null,
      "outputs": [
        {
          "output_type": "stream",
          "name": "stdout",
          "text": [
            "(1999, 2) (1999,)\n",
            "Counter({0: 1000, 1: 999})\n",
            "[-0.67322472  4.62002377] 0\n",
            "[-10.05130117  -3.693535  ] 1\n",
            "[-0.84351622  3.7940829 ] 0\n",
            "[-1.88832573  6.01985124] 0\n",
            "[-11.52731048  -3.58058806] 1\n",
            "[-9.61785722 -5.24089682] 1\n",
            "[-8.91622658 -2.95256262] 1\n",
            "[-1.6057775   3.94690804] 0\n",
            "[-10.08805687  -4.4421194 ] 1\n",
            "[-10.9105226   -2.81820716] 1\n"
          ]
        },
        {
          "output_type": "display_data",
          "data": {
            "text/plain": [
              "<Figure size 640x480 with 1 Axes>"
            ],
            "image/png": "[encoded data removed]"
          },
          "metadata": {}
        }
      ]
    },
    {
      "cell_type": "markdown",
      "source": [
        "**Data Cleaning and Preprocessing**"
      ],
      "metadata": {
        "id": "FSy4P_mK83S4"
      }
    },
    {
      "cell_type": "code",
      "source": [
        "print('Continuous Columns')\n",
        "data.select_dtypes(include=['float']).describe().T[['min', 'mean', 'max']].style.background_gradient(cmap='Blues')"
      ],
      "metadata": {
        "colab": {
          "base_uri": "https://localhost:8080/",
          "height": 129
        },
        "id": "MTQEF6NU87xb",
        "outputId": "f8d42b24-ca28-4603-fb31-24bd4a427d06"
      },
      "execution_count": null,
      "outputs": [
        {
          "output_type": "stream",
          "name": "stdout",
          "text": [
            "Continuous Columns\n"
          ]
        },
        {
          "output_type": "execute_result",
          "data": {
            "text/plain": [
              "<pandas.io.formats.style.Styler at 0x7f06eb897e50>"
            ],
            "text/html": [
              "<style type=\"text/css\">\n",
              "#T_df903_row0_col0, #T_df903_row0_col1, #T_df903_row0_col2 {\n",
              "  background-color: #f7fbff;\n",
              "  color: #000000;\n",
              "}\n",
              "#T_df903_row1_col0, #T_df903_row1_col1, #T_df903_row1_col2 {\n",
              "  background-color: #08306b;\n",
              "  color: #f1f1f1;\n",
              "}\n",
              "</style>\n",
              "<table id=\"T_df903\" class=\"dataframe\">\n",
              "  <thead>\n",
              "    <tr>\n",
              "      <th class=\"blank level0\" >&nbsp;</th>\n",
              "      <th id=\"T_df903_level0_col0\" class=\"col_heading level0 col0\" >min</th>\n",
              "      <th id=\"T_df903_level0_col1\" class=\"col_heading level0 col1\" >mean</th>\n",
              "      <th id=\"T_df903_level0_col2\" class=\"col_heading level0 col2\" >max</th>\n",
              "    </tr>\n",
              "  </thead>\n",
              "  <tbody>\n",
              "    <tr>\n",
              "      <th id=\"T_df903_level0_row0\" class=\"row_heading level0 row0\" >BMI</th>\n",
              "      <td id=\"T_df903_row0_col0\" class=\"data row0 col0\" >12.480000</td>\n",
              "      <td id=\"T_df903_row0_col1\" class=\"data row0 col1\" >29.223062</td>\n",
              "      <td id=\"T_df903_row0_col2\" class=\"data row0 col2\" >75.820000</td>\n",
              "    </tr>\n",
              "    <tr>\n",
              "      <th id=\"T_df903_level0_row1\" class=\"row_heading level0 row1\" >AgeCategory</th>\n",
              "      <td id=\"T_df903_row1_col0\" class=\"data row1 col0\" >21.000000</td>\n",
              "      <td id=\"T_df903_row1_col1\" class=\"data row1 col1\" >60.389695</td>\n",
              "      <td id=\"T_df903_row1_col2\" class=\"data row1 col2\" >80.000000</td>\n",
              "    </tr>\n",
              "  </tbody>\n",
              "</table>\n"
            ]
          },
          "metadata": {},
          "execution_count": 18
        }
      ]
    },
    {
      "cell_type": "code",
      "source": [
        "for col in ['BMI', 'PhysicalHealth', 'MentalHealth', 'AgeCategory', 'SleepTime']:\n",
        "    data[col] = data[col]/data[col].max()"
      ],
      "metadata": {
        "id": "mqjUq2YH9n6f"
      },
      "execution_count": null,
      "outputs": []
    },
    {
      "cell_type": "code",
      "source": [
        "print('\\nCategorical Columns\\n')\n",
        "data.select_dtypes(include=['O']).nunique()"
      ],
      "metadata": {
        "colab": {
          "base_uri": "https://localhost:8080/"
        },
        "id": "Oo_GAnld9uqL",
        "outputId": "ebddff24-e06c-43c9-ec55-35f85630217c"
      },
      "execution_count": null,
      "outputs": [
        {
          "output_type": "stream",
          "name": "stdout",
          "text": [
            "\n",
            "Categorical Columns\n",
            "\n"
          ]
        },
        {
          "output_type": "execute_result",
          "data": {
            "text/plain": [
              "target              2\n",
              "Smoking             2\n",
              "AlcoholDrinking     2\n",
              "Stroke              2\n",
              "DiffWalking         2\n",
              "Sex                 2\n",
              "Race                6\n",
              "Diabetic            4\n",
              "PhysicalActivity    2\n",
              "GenHealth           5\n",
              "Asthma              2\n",
              "KidneyDisease       2\n",
              "SkinCancer          2\n",
              "dtype: int64"
            ]
          },
          "metadata": {},
          "execution_count": 20
        }
      ]
    },
    {
      "cell_type": "markdown",
      "source": [
        "Some categorical columns have 2 values, and some have more than 2 values. Here, I will convert the columns with 2 unique values to binary (either 1 or 0) And one-hot encode the other categorical columns which has more than 2 unique values bold **text**"
      ],
      "metadata": {
        "id": "QTPNzVqKRtC8"
      }
    },
    {
      "cell_type": "code",
      "source": [
        "# Integer encode columns with 2 unique values\n",
        "for col in ['target', 'Smoking', 'AlcoholDrinking', 'Stroke', 'DiffWalking', 'Sex', 'PhysicalActivity', 'Asthma', 'KidneyDisease', 'SkinCancer']:\n",
        "    if data[col].dtype == 'O':\n",
        "        le = LabelEncoder()\n",
        "        data[col] = le.fit_transform(data[col])\n",
        "# One-hot encode columns with more than 2 unique values\n",
        "data = pd.get_dummies(data, columns=['Race', 'Diabetic', 'GenHealth', ], prefix = ['Race', 'Diabetic', 'GenHealth'])"
      ],
      "metadata": {
        "id": "R9PZTcAH91hR"
      },
      "execution_count": null,
      "outputs": []
    },
    {
      "cell_type": "code",
      "source": [
        "data.describe()[1:][['BMI','PhysicalHealth','MentalHealth', 'AgeCategory', 'SleepTime']].T.style.background_gradient(cmap='Blues')"
      ],
      "metadata": {
        "colab": {
          "base_uri": "https://localhost:8080/",
          "height": 206
        },
        "id": "XsL9ds5JhgHH",
        "outputId": "5c00760b-15e2-40b4-cc91-bce7ddca0d59"
      },
      "execution_count": null,
      "outputs": [
        {
          "output_type": "execute_result",
          "data": {
            "text/plain": [
              "<pandas.io.formats.style.Styler at 0x7f06b2f86770>"
            ],
            "text/html": [
              "<style type=\"text/css\">\n",
              "#T_6b1ee_row0_col0 {\n",
              "  background-color: #8fc2de;\n",
              "  color: #000000;\n",
              "}\n",
              "#T_6b1ee_row0_col1, #T_6b1ee_row0_col6, #T_6b1ee_row1_col2, #T_6b1ee_row1_col3, #T_6b1ee_row1_col4, #T_6b1ee_row1_col5, #T_6b1ee_row1_col6, #T_6b1ee_row2_col0, #T_6b1ee_row2_col2, #T_6b1ee_row2_col3, #T_6b1ee_row2_col4, #T_6b1ee_row2_col5, #T_6b1ee_row2_col6, #T_6b1ee_row3_col6, #T_6b1ee_row4_col6 {\n",
              "  background-color: #f7fbff;\n",
              "  color: #000000;\n",
              "}\n",
              "#T_6b1ee_row0_col2 {\n",
              "  background-color: #4191c6;\n",
              "  color: #f1f1f1;\n",
              "}\n",
              "#T_6b1ee_row0_col3 {\n",
              "  background-color: #6aaed6;\n",
              "  color: #f1f1f1;\n",
              "}\n",
              "#T_6b1ee_row0_col4 {\n",
              "  background-color: #82bbdb;\n",
              "  color: #000000;\n",
              "}\n",
              "#T_6b1ee_row0_col5 {\n",
              "  background-color: #8dc1dd;\n",
              "  color: #000000;\n",
              "}\n",
              "#T_6b1ee_row1_col0 {\n",
              "  background-color: #f1f7fd;\n",
              "  color: #000000;\n",
              "}\n",
              "#T_6b1ee_row1_col1, #T_6b1ee_row3_col0, #T_6b1ee_row3_col2, #T_6b1ee_row3_col3, #T_6b1ee_row3_col4, #T_6b1ee_row3_col5 {\n",
              "  background-color: #08306b;\n",
              "  color: #f1f1f1;\n",
              "}\n",
              "#T_6b1ee_row2_col1 {\n",
              "  background-color: #0a549e;\n",
              "  color: #f1f1f1;\n",
              "}\n",
              "#T_6b1ee_row3_col1 {\n",
              "  background-color: #539ecd;\n",
              "  color: #f1f1f1;\n",
              "}\n",
              "#T_6b1ee_row4_col0 {\n",
              "  background-color: #89bedc;\n",
              "  color: #000000;\n",
              "}\n",
              "#T_6b1ee_row4_col1 {\n",
              "  background-color: #f3f8fe;\n",
              "  color: #000000;\n",
              "}\n",
              "#T_6b1ee_row4_col2 {\n",
              "  background-color: #cde0f1;\n",
              "  color: #000000;\n",
              "}\n",
              "#T_6b1ee_row4_col3 {\n",
              "  background-color: #66abd4;\n",
              "  color: #f1f1f1;\n",
              "}\n",
              "#T_6b1ee_row4_col4 {\n",
              "  background-color: #7ab6d9;\n",
              "  color: #000000;\n",
              "}\n",
              "#T_6b1ee_row4_col5 {\n",
              "  background-color: #87bddc;\n",
              "  color: #000000;\n",
              "}\n",
              "</style>\n",
              "<table id=\"T_6b1ee\" class=\"dataframe\">\n",
              "  <thead>\n",
              "    <tr>\n",
              "      <th class=\"blank level0\" >&nbsp;</th>\n",
              "      <th id=\"T_6b1ee_level0_col0\" class=\"col_heading level0 col0\" >mean</th>\n",
              "      <th id=\"T_6b1ee_level0_col1\" class=\"col_heading level0 col1\" >std</th>\n",
              "      <th id=\"T_6b1ee_level0_col2\" class=\"col_heading level0 col2\" >min</th>\n",
              "      <th id=\"T_6b1ee_level0_col3\" class=\"col_heading level0 col3\" >25%</th>\n",
              "      <th id=\"T_6b1ee_level0_col4\" class=\"col_heading level0 col4\" >50%</th>\n",
              "      <th id=\"T_6b1ee_level0_col5\" class=\"col_heading level0 col5\" >75%</th>\n",
              "      <th id=\"T_6b1ee_level0_col6\" class=\"col_heading level0 col6\" >max</th>\n",
              "    </tr>\n",
              "  </thead>\n",
              "  <tbody>\n",
              "    <tr>\n",
              "      <th id=\"T_6b1ee_level0_row0\" class=\"row_heading level0 row0\" >BMI</th>\n",
              "      <td id=\"T_6b1ee_row0_col0\" class=\"data row0 col0\" >0.385427</td>\n",
              "      <td id=\"T_6b1ee_row0_col1\" class=\"data row0 col1\" >0.085691</td>\n",
              "      <td id=\"T_6b1ee_row0_col2\" class=\"data row0 col2\" >0.164600</td>\n",
              "      <td id=\"T_6b1ee_row0_col3\" class=\"data row0 col3\" >0.327090</td>\n",
              "      <td id=\"T_6b1ee_row0_col4\" class=\"data row0 col4\" >0.372593</td>\n",
              "      <td id=\"T_6b1ee_row0_col5\" class=\"data row0 col5\" >0.433988</td>\n",
              "      <td id=\"T_6b1ee_row0_col6\" class=\"data row0 col6\" >1.000000</td>\n",
              "    </tr>\n",
              "    <tr>\n",
              "      <th id=\"T_6b1ee_level0_row1\" class=\"row_heading level0 row1\" >PhysicalHealth</th>\n",
              "      <td id=\"T_6b1ee_row1_col0\" class=\"data row1 col0\" >0.148274</td>\n",
              "      <td id=\"T_6b1ee_row1_col1\" class=\"data row1 col1\" >0.295307</td>\n",
              "      <td id=\"T_6b1ee_row1_col2\" class=\"data row1 col2\" >0.000000</td>\n",
              "      <td id=\"T_6b1ee_row1_col3\" class=\"data row1 col3\" >0.000000</td>\n",
              "      <td id=\"T_6b1ee_row1_col4\" class=\"data row1 col4\" >0.000000</td>\n",
              "      <td id=\"T_6b1ee_row1_col5\" class=\"data row1 col5\" >0.100000</td>\n",
              "      <td id=\"T_6b1ee_row1_col6\" class=\"data row1 col6\" >1.000000</td>\n",
              "    </tr>\n",
              "    <tr>\n",
              "      <th id=\"T_6b1ee_level0_row2\" class=\"row_heading level0 row2\" >MentalHealth</th>\n",
              "      <td id=\"T_6b1ee_row2_col0\" class=\"data row2 col0\" >0.127514</td>\n",
              "      <td id=\"T_6b1ee_row2_col1\" class=\"data row2 col1\" >0.266598</td>\n",
              "      <td id=\"T_6b1ee_row2_col2\" class=\"data row2 col2\" >0.000000</td>\n",
              "      <td id=\"T_6b1ee_row2_col3\" class=\"data row2 col3\" >0.000000</td>\n",
              "      <td id=\"T_6b1ee_row2_col4\" class=\"data row2 col4\" >0.000000</td>\n",
              "      <td id=\"T_6b1ee_row2_col5\" class=\"data row2 col5\" >0.100000</td>\n",
              "      <td id=\"T_6b1ee_row2_col6\" class=\"data row2 col6\" >1.000000</td>\n",
              "    </tr>\n",
              "    <tr>\n",
              "      <th id=\"T_6b1ee_level0_row3\" class=\"row_heading level0 row3\" >AgeCategory</th>\n",
              "      <td id=\"T_6b1ee_row3_col0\" class=\"data row3 col0\" >0.754871</td>\n",
              "      <td id=\"T_6b1ee_row3_col1\" class=\"data row3 col1\" >0.205374</td>\n",
              "      <td id=\"T_6b1ee_row3_col2\" class=\"data row3 col2\" >0.262500</td>\n",
              "      <td id=\"T_6b1ee_row3_col3\" class=\"data row3 col3\" >0.650000</td>\n",
              "      <td id=\"T_6b1ee_row3_col4\" class=\"data row3 col4\" >0.837500</td>\n",
              "      <td id=\"T_6b1ee_row3_col5\" class=\"data row3 col5\" >0.900000</td>\n",
              "      <td id=\"T_6b1ee_row3_col6\" class=\"data row3 col6\" >1.000000</td>\n",
              "    </tr>\n",
              "    <tr>\n",
              "      <th id=\"T_6b1ee_level0_row4\" class=\"row_heading level0 row4\" >SleepTime</th>\n",
              "      <td id=\"T_6b1ee_row4_col0\" class=\"data row4 col0\" >0.396532</td>\n",
              "      <td id=\"T_6b1ee_row4_col1\" class=\"data row4 col1\" >0.090117</td>\n",
              "      <td id=\"T_6b1ee_row4_col2\" class=\"data row4 col2\" >0.055556</td>\n",
              "      <td id=\"T_6b1ee_row4_col3\" class=\"data row4 col3\" >0.333333</td>\n",
              "      <td id=\"T_6b1ee_row4_col4\" class=\"data row4 col4\" >0.388889</td>\n",
              "      <td id=\"T_6b1ee_row4_col5\" class=\"data row4 col5\" >0.444444</td>\n",
              "      <td id=\"T_6b1ee_row4_col6\" class=\"data row4 col6\" >1.000000</td>\n",
              "    </tr>\n",
              "  </tbody>\n",
              "</table>\n"
            ]
          },
          "metadata": {},
          "execution_count": 22
        }
      ]
    },
    {
      "cell_type": "code",
      "source": [
        "print('Continuous Columns')\n",
        "data.select_dtypes(include=['float']).describe().T[['min', 'mean', 'max']].style.background_gradient(cmap='Blues')"
      ],
      "metadata": {
        "colab": {
          "base_uri": "https://localhost:8080/",
          "height": 224
        },
        "id": "rrZEMCqmhlsn",
        "outputId": "8808b119-abe3-4660-c65a-316b94e28824"
      },
      "execution_count": null,
      "outputs": [
        {
          "output_type": "stream",
          "name": "stdout",
          "text": [
            "Continuous Columns\n"
          ]
        },
        {
          "output_type": "execute_result",
          "data": {
            "text/plain": [
              "<pandas.io.formats.style.Styler at 0x7f06eab82dd0>"
            ],
            "text/html": [
              "<style type=\"text/css\">\n",
              "#T_547f8_row0_col0 {\n",
              "  background-color: #4191c6;\n",
              "  color: #f1f1f1;\n",
              "}\n",
              "#T_547f8_row0_col1 {\n",
              "  background-color: #8fc2de;\n",
              "  color: #000000;\n",
              "}\n",
              "#T_547f8_row0_col2, #T_547f8_row1_col0, #T_547f8_row1_col2, #T_547f8_row2_col0, #T_547f8_row2_col1, #T_547f8_row2_col2, #T_547f8_row3_col2, #T_547f8_row4_col2 {\n",
              "  background-color: #f7fbff;\n",
              "  color: #000000;\n",
              "}\n",
              "#T_547f8_row1_col1 {\n",
              "  background-color: #f1f7fd;\n",
              "  color: #000000;\n",
              "}\n",
              "#T_547f8_row3_col0, #T_547f8_row3_col1 {\n",
              "  background-color: #08306b;\n",
              "  color: #f1f1f1;\n",
              "}\n",
              "#T_547f8_row4_col0 {\n",
              "  background-color: #cde0f1;\n",
              "  color: #000000;\n",
              "}\n",
              "#T_547f8_row4_col1 {\n",
              "  background-color: #89bedc;\n",
              "  color: #000000;\n",
              "}\n",
              "</style>\n",
              "<table id=\"T_547f8\" class=\"dataframe\">\n",
              "  <thead>\n",
              "    <tr>\n",
              "      <th class=\"blank level0\" >&nbsp;</th>\n",
              "      <th id=\"T_547f8_level0_col0\" class=\"col_heading level0 col0\" >min</th>\n",
              "      <th id=\"T_547f8_level0_col1\" class=\"col_heading level0 col1\" >mean</th>\n",
              "      <th id=\"T_547f8_level0_col2\" class=\"col_heading level0 col2\" >max</th>\n",
              "    </tr>\n",
              "  </thead>\n",
              "  <tbody>\n",
              "    <tr>\n",
              "      <th id=\"T_547f8_level0_row0\" class=\"row_heading level0 row0\" >BMI</th>\n",
              "      <td id=\"T_547f8_row0_col0\" class=\"data row0 col0\" >0.164600</td>\n",
              "      <td id=\"T_547f8_row0_col1\" class=\"data row0 col1\" >0.385427</td>\n",
              "      <td id=\"T_547f8_row0_col2\" class=\"data row0 col2\" >1.000000</td>\n",
              "    </tr>\n",
              "    <tr>\n",
              "      <th id=\"T_547f8_level0_row1\" class=\"row_heading level0 row1\" >PhysicalHealth</th>\n",
              "      <td id=\"T_547f8_row1_col0\" class=\"data row1 col0\" >0.000000</td>\n",
              "      <td id=\"T_547f8_row1_col1\" class=\"data row1 col1\" >0.148274</td>\n",
              "      <td id=\"T_547f8_row1_col2\" class=\"data row1 col2\" >1.000000</td>\n",
              "    </tr>\n",
              "    <tr>\n",
              "      <th id=\"T_547f8_level0_row2\" class=\"row_heading level0 row2\" >MentalHealth</th>\n",
              "      <td id=\"T_547f8_row2_col0\" class=\"data row2 col0\" >0.000000</td>\n",
              "      <td id=\"T_547f8_row2_col1\" class=\"data row2 col1\" >0.127514</td>\n",
              "      <td id=\"T_547f8_row2_col2\" class=\"data row2 col2\" >1.000000</td>\n",
              "    </tr>\n",
              "    <tr>\n",
              "      <th id=\"T_547f8_level0_row3\" class=\"row_heading level0 row3\" >AgeCategory</th>\n",
              "      <td id=\"T_547f8_row3_col0\" class=\"data row3 col0\" >0.262500</td>\n",
              "      <td id=\"T_547f8_row3_col1\" class=\"data row3 col1\" >0.754871</td>\n",
              "      <td id=\"T_547f8_row3_col2\" class=\"data row3 col2\" >1.000000</td>\n",
              "    </tr>\n",
              "    <tr>\n",
              "      <th id=\"T_547f8_level0_row4\" class=\"row_heading level0 row4\" >SleepTime</th>\n",
              "      <td id=\"T_547f8_row4_col0\" class=\"data row4 col0\" >0.055556</td>\n",
              "      <td id=\"T_547f8_row4_col1\" class=\"data row4 col1\" >0.396532</td>\n",
              "      <td id=\"T_547f8_row4_col2\" class=\"data row4 col2\" >1.000000</td>\n",
              "    </tr>\n",
              "  </tbody>\n",
              "</table>\n"
            ]
          },
          "metadata": {},
          "execution_count": 23
        }
      ]
    },
    {
      "cell_type": "code",
      "source": [
        "for col in ['BMI', 'PhysicalHealth', 'MentalHealth', 'AgeCategory', 'SleepTime']:\n",
        "    data[col] = data[col]/data[col].max()"
      ],
      "metadata": {
        "id": "tOL4-AdUh29k"
      },
      "execution_count": null,
      "outputs": []
    },
    {
      "cell_type": "code",
      "source": [
        "print('\\nCategorical Columns\\n')\n",
        "data.select_dtypes(include=['O']).nunique()"
      ],
      "metadata": {
        "colab": {
          "base_uri": "https://localhost:8080/"
        },
        "id": "xoUeilIUh9gr",
        "outputId": "7bcd44a9-fba8-4d1a-e8d0-13112ee2a3ec"
      },
      "execution_count": null,
      "outputs": [
        {
          "output_type": "stream",
          "name": "stdout",
          "text": [
            "\n",
            "Categorical Columns\n",
            "\n"
          ]
        },
        {
          "output_type": "execute_result",
          "data": {
            "text/plain": [
              "Series([], dtype: float64)"
            ]
          },
          "metadata": {},
          "execution_count": 25
        }
      ]
    },
    {
      "cell_type": "markdown",
      "source": [
        "**Correlation matrix**"
      ],
      "metadata": {
        "id": "hCi4Lq2a-eut"
      }
    },
    {
      "cell_type": "code",
      "source": [
        "fig = px.imshow(data[['target', 'Smoking', 'AlcoholDrinking', 'Stroke', 'DiffWalking', 'Sex',\n",
        "                    'PhysicalActivity', 'Asthma', 'KidneyDisease', 'SkinCancer','BMI', 'PhysicalHealth',\n",
        "                    'MentalHealth', 'AgeCategory', 'SleepTime']].corr(),color_continuous_scale=\"Blues\")\n",
        "fig.update_layout(height=800)\n",
        "fig.show()"
      ],
      "metadata": {
        "colab": {
          "base_uri": "https://localhost:8080/",
          "height": 817
        },
        "id": "fwmvNVG9ijZb",
        "outputId": "7e0d2b1f-41f4-4a11-ba59-a35e318e7187"
      },
      "execution_count": null,
      "outputs": [
        {
          "output_type": "display_data",
          "data": {
            "text/html": [
              "<html>\n",
              "<head><meta charset=\"utf-8\" /></head>\n",
              "<body>\n",
              "    <div>            <script src=\"https://cdnjs.cloudflare.com/ajax/libs/mathjax/2.7.5/MathJax.js?config=TeX-AMS-MML_SVG\"></script><script type=\"text/javascript\">if (window.MathJax && window.MathJax.Hub && window.MathJax.Hub.Config) {window.MathJax.Hub.Config({SVG: {font: \"STIX-Web\"}});}</script>                <script type=\"text/javascript\">window.PlotlyConfig = {MathJaxConfig: 'local'};</script>\n",
              "        <script src=\"https://cdn.plot.ly/plotly-2.18.2.min.js\"></script>                <div id=\"047e8646-3f24-4134-bb51-3e8f4009da4b\" class=\"plotly-graph-div\" style=\"height:800px; width:100%;\"></div>            <script type=\"text/javascript\">                                    window.PLOTLYENV=window.PLOTLYENV || {};                                    if (document.getElementById(\"047e8646-3f24-4134-bb51-3e8f4009da4b\")) {                    Plotly.newPlot(                        \"047e8646-3f24-4134-bb51-3e8f4009da4b\",                        [{\"coloraxis\":\"coloraxis\",\"name\":\"0\",\"x\":[\"target\",\"Smoking\",\"AlcoholDrinking\",\"Stroke\",\"DiffWalking\",\"Sex\",\"PhysicalActivity\",\"Asthma\",\"KidneyDisease\",\"SkinCancer\",\"BMI\",\"PhysicalHealth\",\"MentalHealth\",\"AgeCategory\",\"SleepTime\"],\"y\":[\"target\",\"Smoking\",\"AlcoholDrinking\",\"Stroke\",\"DiffWalking\",\"Sex\",\"PhysicalActivity\",\"Asthma\",\"KidneyDisease\",\"SkinCancer\",\"BMI\",\"PhysicalHealth\",\"MentalHealth\",\"AgeCategory\",\"SleepTime\"],\"z\":[[1.0,0.12962026066762694,-0.01454205770331999,0.21901158119353975,0.22583128266407299,0.11062642955514879,-0.10657363165024715,0.045725082093160174,0.15086769353265056,0.08586428226913648,0.022318250214851135,0.16028766333210928,0.029933327364537878,0.2128847562857075,-0.006430281123777228],[0.12962026066762694,1.0,0.10690469090746497,0.07035299808092864,0.07966098456765261,0.18054094127165676,-0.05627695745477067,-0.014665762989902631,0.02397536696343202,0.03280955484458691,-0.07827512904159147,0.09349012862306474,0.07558334362292751,0.06365674527555118,-0.029475728297109663],[-0.01454205770331999,0.10690469090746497,1.0,-0.008938124698827701,-0.053687448236176175,0.05871039106856619,-0.02359755714715426,0.010830884357103259,-0.0349463098296262,0.03470185895887849,-0.06427810209136443,-0.019469305822877855,0.01269623391124355,-0.05803771747958663,-0.027868080257562825],[0.21901158119353975,0.07035299808092864,-0.008938124698827701,1.0,0.18851347527681023,-0.00825850564387266,-0.08997353215533185,0.059167605659628635,0.11740011751309377,0.053454786053782885,0.010743725898308569,0.15895878296120788,0.04962814463131822,0.14420995916773233,0.01298213086451134],[0.22583128266407299,0.07966098456765261,-0.053687448236176175,0.18851347527681023,1.0,-0.04824399719531245,-0.30634788055991224,0.11542679359444029,0.15563586446846983,0.014128914572725918,0.1861218771937993,0.4615397749054831,0.18880227083208623,0.21939364985575285,-0.04650263575291402],[0.11062642955514879,0.18054094127165676,0.05871039106856619,-0.00825850564387266,-0.04824399719531245,1.0,0.05945856219708491,-0.05287362673331955,0.0011386529220644957,0.05305370120945012,-0.011962951926072418,-0.015664909834841603,-0.09765061188405408,-0.0681596842159003,-0.0058812669578336306],[-0.10657363165024715,-0.05627695745477067,-0.02359755714715426,-0.08997353215533185,-0.30634788055991224,0.05945856219708491,1.0,-0.04676208830890578,-0.05235049810845632,0.010639236050627684,-0.15956776633170833,-0.25279091191047026,-0.13590765391553628,-0.10946325103308245,-0.010174401362847882],[0.045725082093160174,-0.014665762989902631,0.010830884357103259,0.059167605659628635,0.11542679359444029,-0.05287362673331955,-0.04676208830890578,1.0,0.043083311815861745,-0.0011659448283794886,0.06111552097153914,0.13282372791849667,0.11512972353061697,-0.04136887478832448,-0.035945838567396415],[0.15086769353265056,0.02397536696343202,-0.0349463098296262,0.11740011751309377,0.15563586446846983,0.0011386529220644957,-0.05235049810845632,0.043083311815861745,1.0,0.06930697018378615,0.015190748579331522,0.1485585685103366,0.006737925418096012,0.10112697093178676,-0.007710715318584091],[0.08586428226913648,0.03280955484458691,0.03470185895887849,0.053454786053782885,0.014128914572725918,0.05305370120945012,0.010639236050627684,-0.0011659448283794886,0.06930697018378615,1.0,-0.06286463421353079,0.018614566630303,-0.030896914000816383,0.2629230933500292,-0.01607129092658915],[0.022318250214851135,-0.07827512904159147,-0.06427810209136443,0.010743725898308569,0.1861218771937993,-0.011962951926072418,-0.15956776633170833,0.06111552097153914,0.015190748579331522,-0.06286463421353079,1.0,0.11098121151012529,0.047402737155369176,-0.09925417619563605,-0.05205237008441424],[0.16028766333210928,0.09349012862306474,-0.019469305822877855,0.15895878296120788,0.4615397749054831,-0.015664909834841603,-0.25279091191047026,0.13282372791849667,0.1485585685103366,0.018614566630303,0.11098121151012529,1.0,0.25681742216152936,0.06573735323506849,-0.0776063524751478],[0.029933327364537878,0.07558334362292751,0.01269623391124355,0.04962814463131822,0.18880227083208623,-0.09765061188405408,-0.13590765391553628,0.11512972353061697,0.006737925418096012,-0.030896914000816383,0.047402737155369176,0.25681742216152936,1.0,-0.1648991580960333,-0.12082824493873215],[0.2128847562857075,0.06365674527555118,-0.05803771747958663,0.14420995916773233,0.21939364985575285,-0.0681596842159003,-0.10946325103308245,-0.04136887478832448,0.10112697093178676,0.2629230933500292,-0.09925417619563605,0.06573735323506849,-0.1648991580960333,1.0,0.13391550667188074],[-0.006430281123777228,-0.029475728297109663,-0.027868080257562825,0.01298213086451134,-0.04650263575291402,-0.0058812669578336306,-0.010174401362847882,-0.035945838567396415,-0.007710715318584091,-0.01607129092658915,-0.05205237008441424,-0.0776063524751478,-0.12082824493873215,0.13391550667188074,1.0]],\"type\":\"heatmap\",\"xaxis\":\"x\",\"yaxis\":\"y\",\"hovertemplate\":\"x: %{x}<br>y: %{y}<br>color: %{z}<extra></extra>\"}],                        {\"template\":{\"data\":{\"histogram2dcontour\":[{\"type\":\"histogram2dcontour\",\"colorbar\":{\"outlinewidth\":0,\"ticks\":\"\"},\"colorscale\":[[0.0,\"#0d0887\"],[0.1111111111111111,\"#46039f\"],[0.2222222222222222,\"#7201a8\"],[0.3333333333333333,\"#9c179e\"],[0.4444444444444444,\"#bd3786\"],[0.5555555555555556,\"#d8576b\"],[0.6666666666666666,\"#ed7953\"],[0.7777777777777778,\"#fb9f3a\"],[0.8888888888888888,\"#fdca26\"],[1.0,\"#f0f921\"]]}],\"choropleth\":[{\"type\":\"choropleth\",\"colorbar\":{\"outlinewidth\":0,\"ticks\":\"\"}}],\"histogram2d\":[{\"type\":\"histogram2d\",\"colorbar\":{\"outlinewidth\":0,\"ticks\":\"\"},\"colorscale\":[[0.0,\"#0d0887\"],[0.1111111111111111,\"#46039f\"],[0.2222222222222222,\"#7201a8\"],[0.3333333333333333,\"#9c179e\"],[0.4444444444444444,\"#bd3786\"],[0.5555555555555556,\"#d8576b\"],[0.6666666666666666,\"#ed7953\"],[0.7777777777777778,\"#fb9f3a\"],[0.8888888888888888,\"#fdca26\"],[1.0,\"#f0f921\"]]}],\"heatmap\":[{\"type\":\"heatmap\",\"colorbar\":{\"outlinewidth\":0,\"ticks\":\"\"},\"colorscale\":[[0.0,\"#0d0887\"],[0.1111111111111111,\"#46039f\"],[0.2222222222222222,\"#7201a8\"],[0.3333333333333333,\"#9c179e\"],[0.4444444444444444,\"#bd3786\"],[0.5555555555555556,\"#d8576b\"],[0.6666666666666666,\"#ed7953\"],[0.7777777777777778,\"#fb9f3a\"],[0.8888888888888888,\"#fdca26\"],[1.0,\"#f0f921\"]]}],\"heatmapgl\":[{\"type\":\"heatmapgl\",\"colorbar\":{\"outlinewidth\":0,\"ticks\":\"\"},\"colorscale\":[[0.0,\"#0d0887\"],[0.1111111111111111,\"#46039f\"],[0.2222222222222222,\"#7201a8\"],[0.3333333333333333,\"#9c179e\"],[0.4444444444444444,\"#bd3786\"],[0.5555555555555556,\"#d8576b\"],[0.6666666666666666,\"#ed7953\"],[0.7777777777777778,\"#fb9f3a\"],[0.8888888888888888,\"#fdca26\"],[1.0,\"#f0f921\"]]}],\"contourcarpet\":[{\"type\":\"contourcarpet\",\"colorbar\":{\"outlinewidth\":0,\"ticks\":\"\"}}],\"contour\":[{\"type\":\"contour\",\"colorbar\":{\"outlinewidth\":0,\"ticks\":\"\"},\"colorscale\":[[0.0,\"#0d0887\"],[0.1111111111111111,\"#46039f\"],[0.2222222222222222,\"#7201a8\"],[0.3333333333333333,\"#9c179e\"],[0.4444444444444444,\"#bd3786\"],[0.5555555555555556,\"#d8576b\"],[0.6666666666666666,\"#ed7953\"],[0.7777777777777778,\"#fb9f3a\"],[0.8888888888888888,\"#fdca26\"],[1.0,\"#f0f921\"]]}],\"surface\":[{\"type\":\"surface\",\"colorbar\":{\"outlinewidth\":0,\"ticks\":\"\"},\"colorscale\":[[0.0,\"#0d0887\"],[0.1111111111111111,\"#46039f\"],[0.2222222222222222,\"#7201a8\"],[0.3333333333333333,\"#9c179e\"],[0.4444444444444444,\"#bd3786\"],[0.5555555555555556,\"#d8576b\"],[0.6666666666666666,\"#ed7953\"],[0.7777777777777778,\"#fb9f3a\"],[0.8888888888888888,\"#fdca26\"],[1.0,\"#f0f921\"]]}],\"mesh3d\":[{\"type\":\"mesh3d\",\"colorbar\":{\"outlinewidth\":0,\"ticks\":\"\"}}],\"scatter\":[{\"fillpattern\":{\"fillmode\":\"overlay\",\"size\":10,\"solidity\":0.2},\"type\":\"scatter\"}],\"parcoords\":[{\"type\":\"parcoords\",\"line\":{\"colorbar\":{\"outlinewidth\":0,\"ticks\":\"\"}}}],\"scatterpolargl\":[{\"type\":\"scatterpolargl\",\"marker\":{\"colorbar\":{\"outlinewidth\":0,\"ticks\":\"\"}}}],\"bar\":[{\"error_x\":{\"color\":\"#2a3f5f\"},\"error_y\":{\"color\":\"#2a3f5f\"},\"marker\":{\"line\":{\"color\":\"#E5ECF6\",\"width\":0.5},\"pattern\":{\"fillmode\":\"overlay\",\"size\":10,\"solidity\":0.2}},\"type\":\"bar\"}],\"scattergeo\":[{\"type\":\"scattergeo\",\"marker\":{\"colorbar\":{\"outlinewidth\":0,\"ticks\":\"\"}}}],\"scatterpolar\":[{\"type\":\"scatterpolar\",\"marker\":{\"colorbar\":{\"outlinewidth\":0,\"ticks\":\"\"}}}],\"histogram\":[{\"marker\":{\"pattern\":{\"fillmode\":\"overlay\",\"size\":10,\"solidity\":0.2}},\"type\":\"histogram\"}],\"scattergl\":[{\"type\":\"scattergl\",\"marker\":{\"colorbar\":{\"outlinewidth\":0,\"ticks\":\"\"}}}],\"scatter3d\":[{\"type\":\"scatter3d\",\"line\":{\"colorbar\":{\"outlinewidth\":0,\"ticks\":\"\"}},\"marker\":{\"colorbar\":{\"outlinewidth\":0,\"ticks\":\"\"}}}],\"scattermapbox\":[{\"type\":\"scattermapbox\",\"marker\":{\"colorbar\":{\"outlinewidth\":0,\"ticks\":\"\"}}}],\"scatterternary\":[{\"type\":\"scatterternary\",\"marker\":{\"colorbar\":{\"outlinewidth\":0,\"ticks\":\"\"}}}],\"scattercarpet\":[{\"type\":\"scattercarpet\",\"marker\":{\"colorbar\":{\"outlinewidth\":0,\"ticks\":\"\"}}}],\"carpet\":[{\"aaxis\":{\"endlinecolor\":\"#2a3f5f\",\"gridcolor\":\"white\",\"linecolor\":\"white\",\"minorgridcolor\":\"white\",\"startlinecolor\":\"#2a3f5f\"},\"baxis\":{\"endlinecolor\":\"#2a3f5f\",\"gridcolor\":\"white\",\"linecolor\":\"white\",\"minorgridcolor\":\"white\",\"startlinecolor\":\"#2a3f5f\"},\"type\":\"carpet\"}],\"table\":[{\"cells\":{\"fill\":{\"color\":\"#EBF0F8\"},\"line\":{\"color\":\"white\"}},\"header\":{\"fill\":{\"color\":\"#C8D4E3\"},\"line\":{\"color\":\"white\"}},\"type\":\"table\"}],\"barpolar\":[{\"marker\":{\"line\":{\"color\":\"#E5ECF6\",\"width\":0.5},\"pattern\":{\"fillmode\":\"overlay\",\"size\":10,\"solidity\":0.2}},\"type\":\"barpolar\"}],\"pie\":[{\"automargin\":true,\"type\":\"pie\"}]},\"layout\":{\"autotypenumbers\":\"strict\",\"colorway\":[\"#636efa\",\"#EF553B\",\"#00cc96\",\"#ab63fa\",\"#FFA15A\",\"#19d3f3\",\"#FF6692\",\"#B6E880\",\"#FF97FF\",\"#FECB52\"],\"font\":{\"color\":\"#2a3f5f\"},\"hovermode\":\"closest\",\"hoverlabel\":{\"align\":\"left\"},\"paper_bgcolor\":\"white\",\"plot_bgcolor\":\"#E5ECF6\",\"polar\":{\"bgcolor\":\"#E5ECF6\",\"angularaxis\":{\"gridcolor\":\"white\",\"linecolor\":\"white\",\"ticks\":\"\"},\"radialaxis\":{\"gridcolor\":\"white\",\"linecolor\":\"white\",\"ticks\":\"\"}},\"ternary\":{\"bgcolor\":\"#E5ECF6\",\"aaxis\":{\"gridcolor\":\"white\",\"linecolor\":\"white\",\"ticks\":\"\"},\"baxis\":{\"gridcolor\":\"white\",\"linecolor\":\"white\",\"ticks\":\"\"},\"caxis\":{\"gridcolor\":\"white\",\"linecolor\":\"white\",\"ticks\":\"\"}},\"coloraxis\":{\"colorbar\":{\"outlinewidth\":0,\"ticks\":\"\"}},\"colorscale\":{\"sequential\":[[0.0,\"#0d0887\"],[0.1111111111111111,\"#46039f\"],[0.2222222222222222,\"#7201a8\"],[0.3333333333333333,\"#9c179e\"],[0.4444444444444444,\"#bd3786\"],[0.5555555555555556,\"#d8576b\"],[0.6666666666666666,\"#ed7953\"],[0.7777777777777778,\"#fb9f3a\"],[0.8888888888888888,\"#fdca26\"],[1.0,\"#f0f921\"]],\"sequentialminus\":[[0.0,\"#0d0887\"],[0.1111111111111111,\"#46039f\"],[0.2222222222222222,\"#7201a8\"],[0.3333333333333333,\"#9c179e\"],[0.4444444444444444,\"#bd3786\"],[0.5555555555555556,\"#d8576b\"],[0.6666666666666666,\"#ed7953\"],[0.7777777777777778,\"#fb9f3a\"],[0.8888888888888888,\"#fdca26\"],[1.0,\"#f0f921\"]],\"diverging\":[[0,\"#8e0152\"],[0.1,\"#c51b7d\"],[0.2,\"#de77ae\"],[0.3,\"#f1b6da\"],[0.4,\"#fde0ef\"],[0.5,\"#f7f7f7\"],[0.6,\"#e6f5d0\"],[0.7,\"#b8e186\"],[0.8,\"#7fbc41\"],[0.9,\"#4d9221\"],[1,\"#276419\"]]},\"xaxis\":{\"gridcolor\":\"white\",\"linecolor\":\"white\",\"ticks\":\"\",\"title\":{\"standoff\":15},\"zerolinecolor\":\"white\",\"automargin\":true,\"zerolinewidth\":2},\"yaxis\":{\"gridcolor\":\"white\",\"linecolor\":\"white\",\"ticks\":\"\",\"title\":{\"standoff\":15},\"zerolinecolor\":\"white\",\"automargin\":true,\"zerolinewidth\":2},\"scene\":{\"xaxis\":{\"backgroundcolor\":\"#E5ECF6\",\"gridcolor\":\"white\",\"linecolor\":\"white\",\"showbackground\":true,\"ticks\":\"\",\"zerolinecolor\":\"white\",\"gridwidth\":2},\"yaxis\":{\"backgroundcolor\":\"#E5ECF6\",\"gridcolor\":\"white\",\"linecolor\":\"white\",\"showbackground\":true,\"ticks\":\"\",\"zerolinecolor\":\"white\",\"gridwidth\":2},\"zaxis\":{\"backgroundcolor\":\"#E5ECF6\",\"gridcolor\":\"white\",\"linecolor\":\"white\",\"showbackground\":true,\"ticks\":\"\",\"zerolinecolor\":\"white\",\"gridwidth\":2}},\"shapedefaults\":{\"line\":{\"color\":\"#2a3f5f\"}},\"annotationdefaults\":{\"arrowcolor\":\"#2a3f5f\",\"arrowhead\":0,\"arrowwidth\":1},\"geo\":{\"bgcolor\":\"white\",\"landcolor\":\"#E5ECF6\",\"subunitcolor\":\"white\",\"showland\":true,\"showlakes\":true,\"lakecolor\":\"white\"},\"title\":{\"x\":0.05},\"mapbox\":{\"style\":\"light\"}}},\"xaxis\":{\"anchor\":\"y\",\"domain\":[0.0,1.0],\"scaleanchor\":\"y\",\"constrain\":\"domain\"},\"yaxis\":{\"anchor\":\"x\",\"domain\":[0.0,1.0],\"autorange\":\"reversed\",\"constrain\":\"domain\"},\"coloraxis\":{\"colorscale\":[[0.0,\"rgb(247,251,255)\"],[0.125,\"rgb(222,235,247)\"],[0.25,\"rgb(198,219,239)\"],[0.375,\"rgb(158,202,225)\"],[0.5,\"rgb(107,174,214)\"],[0.625,\"rgb(66,146,198)\"],[0.75,\"rgb(33,113,181)\"],[0.875,\"rgb(8,81,156)\"],[1.0,\"rgb(8,48,107)\"]]},\"margin\":{\"t\":60},\"height\":800},                        {\"responsive\": true}                    ).then(function(){\n",
              "                            \n",
              "var gd = document.getElementById('047e8646-3f24-4134-bb51-3e8f4009da4b');\n",
              "var x = new MutationObserver(function (mutations, observer) {{\n",
              "        var display = window.getComputedStyle(gd).display;\n",
              "        if (!display || display === 'none') {{\n",
              "            console.log([gd, 'removed!']);\n",
              "            Plotly.purge(gd);\n",
              "            observer.disconnect();\n",
              "        }}\n",
              "}});\n",
              "\n",
              "// Listen for the removal of the full notebook cells\n",
              "var notebookContainer = gd.closest('#notebook-container');\n",
              "if (notebookContainer) {{\n",
              "    x.observe(notebookContainer, {childList: true});\n",
              "}}\n",
              "\n",
              "// Listen for the clearing of the current output cell\n",
              "var outputEl = gd.closest('.output');\n",
              "if (outputEl) {{\n",
              "    x.observe(outputEl, {childList: true});\n",
              "}}\n",
              "\n",
              "                        })                };                            </script>        </div>\n",
              "</body>\n",
              "</html>"
            ]
          },
          "metadata": {}
        }
      ]
    },
    {
      "cell_type": "code",
      "source": [
        "class_dist=data['target'].value_counts()\n",
        "print(class_dist)\n",
        "print('\\nClass 0: {:0.2f}%'.format(100 *target_temp[0] / (class_dist[0]+class_dist[1])))\n",
        "print('Class 1: {:0.2f}%'.format(100 *target_temp[1] / (class_dist[0]+class_dist[1])))"
      ],
      "metadata": {
        "colab": {
          "base_uri": "https://localhost:8080/"
        },
        "id": "HZkRoAYafWB3",
        "outputId": "047ea459-4d7a-45fa-dc27-e22c35cb2d91"
      },
      "execution_count": null,
      "outputs": [
        {
          "output_type": "stream",
          "name": "stdout",
          "text": [
            "0    1745\n",
            "1     254\n",
            "Name: target, dtype: int64\n",
            "\n",
            "Class 0: 87.29%\n",
            "Class 1: 12.71%\n"
          ]
        }
      ]
    },
    {
      "cell_type": "markdown",
      "source": [
        "**Data Splitting for training and testing**"
      ],
      "metadata": {
        "id": "s4d3BQoq-sbO"
      }
    },
    {
      "cell_type": "code",
      "source": [
        "features = data[['BMI', 'Smoking', 'AlcoholDrinking', 'Stroke',\n",
        "       'PhysicalHealth', 'MentalHealth', 'DiffWalking', 'Sex', 'AgeCategory',\n",
        "       'PhysicalActivity', 'SleepTime', 'Asthma', 'KidneyDisease',\n",
        "       'SkinCancer', 'Race_American Indian/Alaskan Native', 'Race_Asian',\n",
        "       'Race_Black', 'Race_Hispanic', 'Race_Other', 'Race_White',\n",
        "       'Diabetic_No', 'Diabetic_No, borderline diabetes', 'Diabetic_Yes',\n",
        "       'Diabetic_Yes (during pregnancy)', 'GenHealth_Excellent',\n",
        "       'GenHealth_Fair', 'GenHealth_Good', 'GenHealth_Poor',\n",
        "       'GenHealth_Very good']]\n",
        "\n",
        "labels = data['target']"
      ],
      "metadata": {
        "id": "wU4sUwOPi8-x"
      },
      "execution_count": null,
      "outputs": []
    },
    {
      "cell_type": "code",
      "source": [
        "training_data = data.sample(frac=0.8, random_state=25)\n",
        "testing_data = data.drop(training_data.index)\n",
        "\n",
        "print(f\"No. of training examples: {training_data.shape[0]}\")\n",
        "print(f\"No. of testing examples: {testing_data.shape[0]}\")"
      ],
      "metadata": {
        "colab": {
          "base_uri": "https://localhost:8080/"
        },
        "id": "umk6sd-Jg82V",
        "outputId": "3214cde8-831e-4e46-c219-0ba7df2250aa"
      },
      "execution_count": null,
      "outputs": [
        {
          "output_type": "stream",
          "name": "stdout",
          "text": [
            "No. of training examples: 1599\n",
            "No. of testing examples: 400\n"
          ]
        }
      ]
    },
    {
      "cell_type": "code",
      "source": [
        "print('\\nData in Training:')\n",
        "print(training_data['target'].value_counts())\n",
        "\n",
        "print('\\nData in Testing:')\n",
        "print(testing_data['target'].value_counts())"
      ],
      "metadata": {
        "colab": {
          "base_uri": "https://localhost:8080/"
        },
        "id": "DpsKzryAhPSn",
        "outputId": "ced3f37d-f583-4fc5-e338-460473671b36"
      },
      "execution_count": null,
      "outputs": [
        {
          "output_type": "stream",
          "name": "stdout",
          "text": [
            "\n",
            "Data in Training:\n",
            "0    1397\n",
            "1     202\n",
            "Name: target, dtype: int64\n",
            "\n",
            "Data in Testing:\n",
            "0    348\n",
            "1     52\n",
            "Name: target, dtype: int64\n"
          ]
        }
      ]
    },
    {
      "cell_type": "markdown",
      "source": [
        "**Training and evaluation of model**"
      ],
      "metadata": {
        "id": "R4D7aoon_dmo"
      }
    },
    {
      "cell_type": "code",
      "source": [
        "x_train = np.array(training_data[['BMI', 'Smoking', 'AlcoholDrinking', 'Stroke',\n",
        "       'PhysicalHealth', 'MentalHealth', 'DiffWalking', 'Sex', 'AgeCategory',\n",
        "       'PhysicalActivity', 'SleepTime', 'Asthma', 'KidneyDisease',\n",
        "       'SkinCancer', 'Race_American Indian/Alaskan Native', 'Race_Asian',\n",
        "       'Race_Black', 'Race_Hispanic', 'Race_Other', 'Race_White',\n",
        "       'Diabetic_No', 'Diabetic_No, borderline diabetes', 'Diabetic_Yes',\n",
        "       'Diabetic_Yes (during pregnancy)', 'GenHealth_Excellent',\n",
        "       'GenHealth_Fair', 'GenHealth_Good', 'GenHealth_Poor',\n",
        "       'GenHealth_Very good']])\n",
        "y_train = np.array(training_data['target'])\n",
        "\n",
        "x_test = np.array(testing_data[['BMI', 'Smoking', 'AlcoholDrinking', 'Stroke',\n",
        "       'PhysicalHealth', 'MentalHealth', 'DiffWalking', 'Sex', 'AgeCategory',\n",
        "       'PhysicalActivity', 'SleepTime', 'Asthma', 'KidneyDisease',\n",
        "       'SkinCancer', 'Race_American Indian/Alaskan Native', 'Race_Asian',\n",
        "       'Race_Black', 'Race_Hispanic', 'Race_Other', 'Race_White',\n",
        "       'Diabetic_No', 'Diabetic_No, borderline diabetes', 'Diabetic_Yes',\n",
        "       'Diabetic_Yes (during pregnancy)', 'GenHealth_Excellent',\n",
        "       'GenHealth_Fair', 'GenHealth_Good', 'GenHealth_Poor',\n",
        "       'GenHealth_Very good']])\n",
        "y_test = np.array(testing_data['target'])"
      ],
      "metadata": {
        "id": "nuZiwtxkjWJ0"
      },
      "execution_count": null,
      "outputs": []
    },
    {
      "cell_type": "markdown",
      "source": [
        "**SMOTE**"
      ],
      "metadata": {
        "id": "JWmYrZk1npcq"
      }
    },
    {
      "cell_type": "code",
      "source": [
        "from imblearn.over_sampling import SMOTE \n",
        "sm = SMOTE(sampling_strategy=0.5,k_neighbors=5,random_state = 100) \n",
        "X_train_res, y_train_res = sm.fit_resample(x_train, y_train.ravel()) "
      ],
      "metadata": {
        "id": "--ij1_s3ixjO"
      },
      "execution_count": null,
      "outputs": []
    },
    {
      "cell_type": "markdown",
      "source": [
        "**Logistic Regression**"
      ],
      "metadata": {
        "id": "Mwy_sS5Yo3XF"
      }
    },
    {
      "cell_type": "code",
      "source": [
        "lr = LogisticRegression() \n",
        "lr.fit(X_train_res, y_train_res.ravel()) \n",
        "predictions = lr.predict(x_test) \n",
        "  \n",
        "print('Accuracy ',accuracy_score(y_test,predictions))\n",
        "print(classification_report(y_test, predictions)) \n",
        "\n",
        "\n",
        "\n",
        "\n",
        "lr_accuracy = accuracy_score(y_test, predictions)\n",
        "print(\"Accuracy   :\", lr_accuracy)\n",
        "precision = precision_score(y_test,predictions)\n",
        "print(\"Precision :\", precision)\n",
        "recall = recall_score(y_test, predictions)\n",
        "print(\"Recall    :\", recall)\n",
        "F1_score = f1_score(y_test, predictions)\n",
        "print(\"F1-score  :\", F1_score)\n",
        "\n",
        "\n",
        "\n",
        "from sklearn.metrics import confusion_matrix\n",
        "cm = confusion_matrix(y_test,predictions)\n",
        " \n",
        "#Plot the confusion matrix.\n",
        "sns.heatmap(cm,\n",
        "            annot=True,\n",
        "            fmt='g',\n",
        "            xticklabels=['Heart Disease', 'No Heart Disease'],\n",
        "            yticklabels=['Heart Disease', 'No Heart Disease'])\n",
        "plt.ylabel('Prediction',fontsize=13)\n",
        "plt.xlabel('Actual',fontsize=13)\n",
        "plt.title('Confusion Matrix',fontsize=17)\n",
        "plt.show()\n",
        "\n",
        "\n",
        "\n",
        "\n",
        "\n",
        "from sklearn.metrics import roc_auc_score\n",
        "from matplotlib import pyplot\n",
        "\n",
        "# predict probabilities\n",
        "lr_probs = lr.predict_proba(x_test)\n",
        "# keep probabilities for the positive outcome only\n",
        "lr_probs = lr_probs[:, 1]\n",
        "lr_auc = roc_auc_score(y_test, lr_probs)\n",
        "print('Logistic Regression: ROC AUC=%.3f' % (lr_auc))\n",
        "lr_fpr, lr_tpr, _ = roc_curve(y_test, lr_probs)\n",
        "pyplot.plot(lr_fpr, lr_tpr, marker='.', label='Logistic Regression')\n",
        "pyplot.xlabel('False Positive Rate')\n",
        "pyplot.ylabel('True Positive Rate')\n",
        "# show the legend\n",
        "pyplot.legend()\n",
        "# show the plot\n",
        "pyplot.show()\n"
      ],
      "metadata": {
        "colab": {
          "base_uri": "https://localhost:8080/",
          "height": 1000
        },
        "id": "SNHZfnjSjm_b",
        "outputId": "c8413791-cb4c-4998-e777-f1b2fe0d739e"
      },
      "execution_count": null,
      "outputs": [
        {
          "output_type": "stream",
          "name": "stdout",
          "text": [
            "Accuracy  0.81\n",
            "              precision    recall  f1-score   support\n",
            "\n",
            "           0       0.92      0.85      0.89       348\n",
            "           1       0.35      0.52      0.42        52\n",
            "\n",
            "    accuracy                           0.81       400\n",
            "   macro avg       0.63      0.69      0.65       400\n",
            "weighted avg       0.85      0.81      0.83       400\n",
            "\n",
            "Accuracy   : 0.81\n",
            "Precision : 0.34615384615384615\n",
            "Recall    : 0.5192307692307693\n",
            "F1-score  : 0.41538461538461535\n"
          ]
        },
        {
          "output_type": "display_data",
          "data": {
            "text/plain": [
              "<Figure size 640x480 with 2 Axes>"
            ],
            "image/png": "[encoded data removed]"
          },
          "metadata": {}
        },
        {
          "output_type": "stream",
          "name": "stdout",
          "text": [
            "Logistic Regression: ROC AUC=0.750\n"
          ]
        },
        {
          "output_type": "display_data",
          "data": {
            "text/plain": [
              "<Figure size 640x480 with 1 Axes>"
            ],
            "image/png": "[encoded data removed]"
          },
          "metadata": {}
        }
      ]
    },
    {
      "cell_type": "markdown",
      "source": [
        "**Random Forest**"
      ],
      "metadata": {
        "id": "P8UlcaWspdVd"
      }
    },
    {
      "cell_type": "code",
      "source": [
        "rf = RandomForestClassifier() \n",
        "rf.fit(X_train_res, y_train_res.ravel()) \n",
        "predictions = rf.predict(x_test) \n",
        "  \n",
        "print('Accuracy ',accuracy_score(y_test,predictions))\n",
        "print(classification_report(y_test, predictions)) \n",
        "\n",
        "\n",
        "\n",
        "\n",
        "rf_accuracy = accuracy_score(y_test, predictions)\n",
        "print(\"Accuracy   :\", rf_accuracy)\n",
        "precision = precision_score(y_test,predictions)\n",
        "print(\"Precision :\", precision)\n",
        "recall = recall_score(y_test, predictions)\n",
        "print(\"Recall    :\", recall)\n",
        "F1_score = f1_score(y_test, predictions)\n",
        "print(\"F1-score  :\", F1_score)\n",
        "\n",
        "\n",
        "from sklearn.metrics import confusion_matrix\n",
        "cm = confusion_matrix(y_test,predictions)\n",
        " \n",
        "#Plot the confusion matrix.\n",
        "sns.heatmap(cm,\n",
        "            annot=True,\n",
        "            fmt='g',\n",
        "            xticklabels=['Heart Disease', 'No Heart Disease'],\n",
        "            yticklabels=['Heart Disease', 'No Heart Disease'])\n",
        "plt.ylabel('Prediction',fontsize=13)\n",
        "plt.xlabel('Actual',fontsize=13)\n",
        "plt.title('Confusion Matrix',fontsize=17)\n",
        "plt.show()\n",
        "\n",
        "\n",
        "\n",
        "\n",
        "\n",
        "\n",
        "from sklearn.metrics import roc_auc_score\n",
        "from matplotlib import pyplot\n",
        "\n",
        "# predict probabilities\n",
        "rf_probs = rf.predict_proba(x_test)\n",
        "# keep probabilities for the positive outcome only\n",
        "rf_probs = rf_probs[:, 1]\n",
        "rf_auc = roc_auc_score(y_test, rf_probs)\n",
        "print('Random Forest: ROC AUC=%.3f' % (rf_auc))\n",
        "rf_fpr, rf_tpr, _ = roc_curve(y_test, rf_probs)\n",
        "pyplot.plot(rf_fpr, rf_tpr, marker='.', label='Random Forest')\n",
        "pyplot.xlabel('False Positive Rate')\n",
        "pyplot.ylabel('True Positive Rate')\n",
        "# show the legend\n",
        "pyplot.legend()\n",
        "# show the plot"
      ],
      "metadata": {
        "colab": {
          "base_uri": "https://localhost:8080/",
          "height": 1000
        },
        "id": "e1gHbFtHj3k5",
        "outputId": "3a35ef1d-479f-4c38-8737-4fd72f2406d9"
      },
      "execution_count": null,
      "outputs": [
        {
          "output_type": "stream",
          "name": "stdout",
          "text": [
            "Accuracy  0.8525\n",
            "              precision    recall  f1-score   support\n",
            "\n",
            "           0       0.89      0.95      0.92       348\n",
            "           1       0.36      0.17      0.23        52\n",
            "\n",
            "    accuracy                           0.85       400\n",
            "   macro avg       0.62      0.56      0.58       400\n",
            "weighted avg       0.82      0.85      0.83       400\n",
            "\n",
            "Accuracy   : 0.8525\n",
            "Precision : 0.36\n",
            "Recall    : 0.17307692307692307\n",
            "F1-score  : 0.2337662337662338\n"
          ]
        },
        {
          "output_type": "display_data",
          "data": {
            "text/plain": [
              "<Figure size 640x480 with 2 Axes>"
            ],
            "image/png": "[encoded data removed]"
          },
          "metadata": {}
        },
        {
          "output_type": "stream",
          "name": "stdout",
          "text": [
            "Random Forest: ROC AUC=0.719\n"
          ]
        },
        {
          "output_type": "execute_result",
          "data": {
            "text/plain": [
              "<matplotlib.legend.Legend at 0x7f06a9be9360>"
            ]
          },
          "metadata": {},
          "execution_count": 74
        },
        {
          "output_type": "display_data",
          "data": {
            "text/plain": [
              "<Figure size 640x480 with 1 Axes>"
            ],
            "image/png": "[encoded data removed]"
          },
          "metadata": {}
        }
      ]
    },
    {
      "cell_type": "markdown",
      "source": [
        "**KNearestNeighbors**"
      ],
      "metadata": {
        "id": "128fxxvDpW4A"
      }
    },
    {
      "cell_type": "code",
      "source": [
        "knn = KNeighborsClassifier(n_neighbors=7)\n",
        "knn.fit(X_train_res, y_train_res.ravel()) \n",
        "predictions = knn.predict(x_test) \n",
        "  \n",
        "print('Accuracy ',accuracy_score(y_test,predictions))\n",
        "print(classification_report(y_test, predictions)) \n",
        "\n",
        "\n",
        "\n",
        "kn_accuracy = accuracy_score(y_test, predictions)\n",
        "print(\"Accuracy   :\", kn_accuracy)\n",
        "precision = precision_score(y_test,predictions)\n",
        "print(\"Precision :\", precision)\n",
        "recall = recall_score(y_test, predictions)\n",
        "print(\"Recall    :\", recall)\n",
        "F1_score = f1_score(y_test, predictions)\n",
        "print(\"F1-score  :\", F1_score)\n",
        "\n",
        "\n",
        "\n",
        "from sklearn.metrics import confusion_matrix\n",
        "cm = confusion_matrix(y_test,predictions)\n",
        " \n",
        "#Plot the confusion matrix.\n",
        "sns.heatmap(cm,\n",
        "            annot=True,\n",
        "            fmt='g',\n",
        "            xticklabels=['Heart Disease', 'No Heart Disease'],\n",
        "            yticklabels=['Heart Disease', 'No Heart Disease'])\n",
        "plt.ylabel('Prediction',fontsize=13)\n",
        "plt.xlabel('Actual',fontsize=13)\n",
        "plt.title('Confusion Matrix',fontsize=17)\n",
        "plt.show()\n",
        "\n",
        "\n",
        "\n",
        "from sklearn.metrics import roc_auc_score\n",
        "from matplotlib import pyplot\n",
        "\n",
        "# predict probabilities\n",
        "kn_probs = knn.predict_proba(x_test)\n",
        "# keep probabilities for the positive outcome only\n",
        "kn_probs = kn_probs[:, 1]\n",
        "kn_auc = roc_auc_score(y_test, kn_probs)\n",
        "print('KNN: ROC AUC=%.3f' % (kn_auc))\n",
        "kn_fpr, kn_tpr, _ = roc_curve(y_test, lr_probs)\n",
        "pyplot.plot(kn_fpr, kn_tpr, marker='.', label='KNN')\n",
        "pyplot.xlabel('False Positive Rate')\n",
        "pyplot.ylabel('True Positive Rate')\n",
        "# show the legend\n",
        "pyplot.legend()\n",
        "# show the plot\n",
        "\n",
        "\n",
        "\n",
        "\n",
        "\n"
      ],
      "metadata": {
        "colab": {
          "base_uri": "https://localhost:8080/",
          "height": 1000
        },
        "id": "W6wnNv6GkEls",
        "outputId": "673a7b06-b6e1-4bc9-b9f8-4f592cc3c417"
      },
      "execution_count": null,
      "outputs": [
        {
          "output_type": "stream",
          "name": "stdout",
          "text": [
            "Accuracy  0.7775\n",
            "              precision    recall  f1-score   support\n",
            "\n",
            "           0       0.91      0.82      0.87       348\n",
            "           1       0.29      0.48      0.36        52\n",
            "\n",
            "    accuracy                           0.78       400\n",
            "   macro avg       0.60      0.65      0.61       400\n",
            "weighted avg       0.83      0.78      0.80       400\n",
            "\n",
            "Accuracy   : 0.7775\n",
            "Precision : 0.28735632183908044\n",
            "Recall    : 0.4807692307692308\n",
            "F1-score  : 0.3597122302158273\n"
          ]
        },
        {
          "output_type": "display_data",
          "data": {
            "text/plain": [
              "<Figure size 640x480 with 2 Axes>"
            ],
            "image/png": "[encoded data removed]"
          },
          "metadata": {}
        },
        {
          "output_type": "stream",
          "name": "stdout",
          "text": [
            "KNN: ROC AUC=0.659\n"
          ]
        },
        {
          "output_type": "execute_result",
          "data": {
            "text/plain": [
              "<matplotlib.legend.Legend at 0x7f06aa2327d0>"
            ]
          },
          "metadata": {},
          "execution_count": 75
        },
        {
          "output_type": "display_data",
          "data": {
            "text/plain": [
              "<Figure size 640x480 with 1 Axes>"
            ],
            "image/png": "[encoded data removed]"
          },
          "metadata": {}
        }
      ]
    },
    {
      "cell_type": "markdown",
      "source": [
        "**DecisionTree**"
      ],
      "metadata": {
        "id": "g_OrJEpgpnSE"
      }
    },
    {
      "cell_type": "code",
      "source": [
        "dt = DecisionTreeClassifier()\n",
        "dt.fit(X_train_res, y_train_res.ravel()) \n",
        "predictions = dt.predict(x_test) \n",
        "  \n",
        "print('Accuracy ',accuracy_score(y_test,predictions))\n",
        "print(classification_report(y_test, predictions)) \n",
        "\n",
        "\n",
        "\n",
        "\n",
        "dt_accuracy = accuracy_score(y_test, predictions)\n",
        "print(\"Accuracy   :\", dt_accuracy)\n",
        "precision = precision_score(y_test,predictions)\n",
        "print(\"Precision :\", precision)\n",
        "recall = recall_score(y_test, predictions)\n",
        "print(\"Recall    :\", recall)\n",
        "F1_score = f1_score(y_test, predictions)\n",
        "print(\"F1-score  :\", F1_score)\n",
        "\n",
        "\n",
        "\n",
        "from sklearn.metrics import confusion_matrix\n",
        "cm = confusion_matrix(y_test,predictions)\n",
        " \n",
        "#Plot the confusion matrix.\n",
        "sns.heatmap(cm,\n",
        "            annot=True,\n",
        "            fmt='g',\n",
        "            xticklabels=['Heart Disease', 'No Heart Disease'],\n",
        "            yticklabels=['Heart Disease', 'No Heart Disease'])\n",
        "plt.ylabel('Prediction',fontsize=13)\n",
        "plt.xlabel('Actual',fontsize=13)\n",
        "plt.title('Confusion Matrix',fontsize=17)\n",
        "plt.show()\n",
        "\n",
        "\n",
        "\n",
        "from sklearn.metrics import roc_auc_score\n",
        "from matplotlib import pyplot\n",
        "\n",
        "# predict probabilities\n",
        "dt_probs = dt.predict_proba(x_test)\n",
        "# keep probabilities for the positive outcome only\n",
        "dt_probs = dt_probs[:, 1]\n",
        "dt_auc = roc_auc_score(y_test, dt_probs)\n",
        "print('Decision Tree: ROC AUC=%.3f' % (dt_auc))\n",
        "dt_fpr, dt_tpr, _ = roc_curve(y_test, dt_probs)\n",
        "pyplot.plot(dt_fpr, dt_tpr, marker='.', label='Decision Tree')\n",
        "pyplot.xlabel('False Positive Rate')\n",
        "pyplot.ylabel('True Positive Rate')\n",
        "# show the legend\n",
        "pyplot.legend()\n",
        "# show the plot"
      ],
      "metadata": {
        "colab": {
          "base_uri": "https://localhost:8080/",
          "height": 1000
        },
        "id": "5gcNCwXfkW8s",
        "outputId": "f7f789ed-7589-440e-f255-16e81c8b896c"
      },
      "execution_count": null,
      "outputs": [
        {
          "output_type": "stream",
          "name": "stdout",
          "text": [
            "Accuracy  0.8\n",
            "              precision    recall  f1-score   support\n",
            "\n",
            "           0       0.89      0.89      0.89       348\n",
            "           1       0.23      0.23      0.23        52\n",
            "\n",
            "    accuracy                           0.80       400\n",
            "   macro avg       0.56      0.56      0.56       400\n",
            "weighted avg       0.80      0.80      0.80       400\n",
            "\n",
            "Accuracy   : 0.8\n",
            "Precision : 0.23076923076923078\n",
            "Recall    : 0.23076923076923078\n",
            "F1-score  : 0.23076923076923078\n"
          ]
        },
        {
          "output_type": "display_data",
          "data": {
            "text/plain": [
              "<Figure size 640x480 with 2 Axes>"
            ],
            "image/png": "[encoded data removed]"
          },
          "metadata": {}
        },
        {
          "output_type": "stream",
          "name": "stdout",
          "text": [
            "Decision Tree: ROC AUC=0.558\n"
          ]
        },
        {
          "output_type": "execute_result",
          "data": {
            "text/plain": [
              "<matplotlib.legend.Legend at 0x7f06aa347fa0>"
            ]
          },
          "metadata": {},
          "execution_count": 76
        },
        {
          "output_type": "display_data",
          "data": {
            "text/plain": [
              "<Figure size 640x480 with 1 Axes>"
            ],
            "image/png": "[encoded data removed]"
          },
          "metadata": {}
        }
      ]
    },
    {
      "cell_type": "markdown",
      "source": [
        "**SVM**"
      ],
      "metadata": {
        "id": "6ZRayZXkpsry"
      }
    },
    {
      "cell_type": "code",
      "source": [
        "sv = svm.SVC(kernel='linear')\n",
        "sv.fit(X_train_res, y_train_res.ravel()) \n",
        "predictions = sv.predict(x_test) \n",
        "  \n",
        "print('Accuracy ',accuracy_score(y_test,predictions))\n",
        "print(classification_report(y_test, predictions)) \n",
        "\n",
        "\n",
        "\n",
        "svm_accuracy = accuracy_score(y_test, predictions)\n",
        "print(\"Accuracy   :\", svm_accuracy)\n",
        "precision = precision_score(y_test,predictions)\n",
        "print(\"Precision :\", precision)\n",
        "recall = recall_score(y_test, predictions)\n",
        "print(\"Recall    :\", recall)\n",
        "F1_score = f1_score(y_test, predictions)\n",
        "print(\"F1-score  :\", F1_score)\n",
        "\n",
        "\n",
        "\n",
        "from sklearn.metrics import confusion_matrix\n",
        "cm = confusion_matrix(y_test,predictions)\n",
        " \n",
        "#Plot the confusion matrix.\n",
        "sns.heatmap(cm,\n",
        "            annot=True,\n",
        "            fmt='g',\n",
        "            xticklabels=['Heart Disease', 'No Heart Disease'],\n",
        "            yticklabels=['Heart Disease', 'No Heart Disease'])\n",
        "plt.ylabel('Prediction',fontsize=13)\n",
        "plt.xlabel('Actual',fontsize=13)\n",
        "plt.title('Confusion Matrix',fontsize=17)\n",
        "plt.show()\n",
        "\n",
        "\n",
        "\n",
        "\n",
        "from sklearn.metrics import roc_auc_score\n",
        "from matplotlib import pyplot\n",
        "\n",
        "\n",
        "sv_auc = roc_auc_score(y_test, predictions)\n",
        "print('SVM: ROC AUC=%.3f' % (dt_auc))\n",
        "\n",
        "\n",
        "sv_fpr, sv_tpr, _ = roc_curve(y_test, predictions)\n",
        "pyplot.plot(sv_fpr, sv_tpr, marker='.', label='SVM')\n",
        "pyplot.xlabel('False Positive Rate')\n",
        "pyplot.ylabel('True Positive Rate')\n",
        "# show the legend\n",
        "pyplot.legend()\n",
        "# show the plot\n",
        "\n"
      ],
      "metadata": {
        "colab": {
          "base_uri": "https://localhost:8080/",
          "height": 1000
        },
        "id": "fS3Lm8CnkqP9",
        "outputId": "4173a442-6866-487b-b01e-20091b35c355"
      },
      "execution_count": null,
      "outputs": [
        {
          "output_type": "stream",
          "name": "stdout",
          "text": [
            "Accuracy  0.81\n",
            "              precision    recall  f1-score   support\n",
            "\n",
            "           0       0.92      0.85      0.89       348\n",
            "           1       0.35      0.52      0.42        52\n",
            "\n",
            "    accuracy                           0.81       400\n",
            "   macro avg       0.63      0.69      0.65       400\n",
            "weighted avg       0.85      0.81      0.83       400\n",
            "\n",
            "Accuracy   : 0.81\n",
            "Precision : 0.34615384615384615\n",
            "Recall    : 0.5192307692307693\n",
            "F1-score  : 0.41538461538461535\n"
          ]
        },
        {
          "output_type": "display_data",
          "data": {
            "text/plain": [
              "<Figure size 640x480 with 2 Axes>"
            ],
            "image/png": "[encoded data removed]"
          },
          "metadata": {}
        },
        {
          "output_type": "stream",
          "name": "stdout",
          "text": [
            "SVM: ROC AUC=0.558\n"
          ]
        },
        {
          "output_type": "execute_result",
          "data": {
            "text/plain": [
              "<matplotlib.legend.Legend at 0x7f06ac5d2230>"
            ]
          },
          "metadata": {},
          "execution_count": 77
        },
        {
          "output_type": "display_data",
          "data": {
            "text/plain": [
              "<Figure size 640x480 with 1 Axes>"
            ],
            "image/png": "[encoded data removed]"
          },
          "metadata": {}
        }
      ]
    },
    {
      "cell_type": "markdown",
      "source": [
        "**Naive Bayes**"
      ],
      "metadata": {
        "id": "lH6cFop-pz0u"
      }
    },
    {
      "cell_type": "code",
      "source": [
        "nb = GaussianNB()\n",
        "nb.fit(X_train_res, y_train_res.ravel()) \n",
        "predictions = nb.predict(x_test) \n",
        "  \n",
        "print('Accuracy ',accuracy_score(y_test,predictions))\n",
        "print(classification_report(y_test, predictions)) \n",
        "\n",
        "\n",
        "\n",
        "nb_accuracy = accuracy_score(y_test, predictions)\n",
        "print(\"Accuracy   :\", nb_accuracy)\n",
        "precision = precision_score(y_test,predictions)\n",
        "print(\"Precision :\", precision)\n",
        "recall = recall_score(y_test, predictions)\n",
        "print(\"Recall    :\", recall)\n",
        "F1_score = f1_score(y_test, predictions)\n",
        "print(\"F1-score  :\", F1_score)\n",
        "\n",
        "from sklearn.metrics import confusion_matrix\n",
        "cm = confusion_matrix(y_test,predictions)\n",
        " \n",
        "#Plot the confusion matrix.\n",
        "sns.heatmap(cm,\n",
        "            annot=True,\n",
        "            fmt='g',\n",
        "            xticklabels=['Heart Disease', 'No Heart Disease'],\n",
        "            yticklabels=['Heart Disease', 'No Heart Disease'])\n",
        "plt.ylabel('Prediction',fontsize=13)\n",
        "plt.xlabel('Actual',fontsize=13)\n",
        "plt.title('Confusion Matrix',fontsize=17)\n",
        "plt.show()\n",
        "\n",
        "\n",
        "\n",
        "\n",
        "\n",
        "\n",
        "from sklearn.metrics import roc_auc_score\n",
        "from matplotlib import pyplot\n",
        "\n",
        "# predict probabilities\n",
        "nv_probs = nb.predict_proba(x_test)\n",
        "# keep probabilities for the positive outcome only\n",
        "nv_probs = nv_probs[:, 1]\n",
        "nv_auc = roc_auc_score(y_test, nv_probs)\n",
        "print('Naive Bayes: ROC AUC=%.3f' % (nv_auc))\n",
        "nv_fpr, nv_tpr, _ = roc_curve(y_test, nv_probs)\n",
        "pyplot.plot(nv_fpr, nv_tpr, marker='.', label='Naive Bayes')\n",
        "pyplot.xlabel('False Positive Rate')\n",
        "pyplot.ylabel('True Positive Rate')\n",
        "# show the legend\n",
        "pyplot.legend()\n",
        "# show the plot"
      ],
      "metadata": {
        "colab": {
          "base_uri": "https://localhost:8080/",
          "height": 1000
        },
        "id": "rAu4A54Uk4pi",
        "outputId": "015c3c9f-0e15-4a5e-df44-159208d7bd66"
      },
      "execution_count": null,
      "outputs": [
        {
          "output_type": "stream",
          "name": "stdout",
          "text": [
            "Accuracy  0.6775\n",
            "              precision    recall  f1-score   support\n",
            "\n",
            "           0       0.93      0.68      0.79       348\n",
            "           1       0.23      0.65      0.35        52\n",
            "\n",
            "    accuracy                           0.68       400\n",
            "   macro avg       0.58      0.67      0.57       400\n",
            "weighted avg       0.84      0.68      0.73       400\n",
            "\n",
            "Accuracy   : 0.6775\n",
            "Precision : 0.23448275862068965\n",
            "Recall    : 0.6538461538461539\n",
            "F1-score  : 0.34517766497461927\n"
          ]
        },
        {
          "output_type": "display_data",
          "data": {
            "text/plain": [
              "<Figure size 640x480 with 2 Axes>"
            ],
            "image/png": "[encoded data removed]"
          },
          "metadata": {}
        },
        {
          "output_type": "stream",
          "name": "stdout",
          "text": [
            "Naive Bayes: ROC AUC=0.726\n"
          ]
        },
        {
          "output_type": "execute_result",
          "data": {
            "text/plain": [
              "<matplotlib.legend.Legend at 0x7f06a9a37df0>"
            ]
          },
          "metadata": {},
          "execution_count": 78
        },
        {
          "output_type": "display_data",
          "data": {
            "text/plain": [
              "<Figure size 640x480 with 1 Axes>"
            ],
            "image/png": "[encoded data removed]"
          },
          "metadata": {}
        }
      ]
    },
    {
      "cell_type": "code",
      "source": [
        "scores = [lr_accuracy,rf_accuracy,kn_accuracy, svm_accuracy,dt_accuracy, nb_accuracy]\n",
        "algorithms = [\"Logistic Regression\",\"Naive Bayes\",\"Random Classifier\",\"Decision Tree\", \"KNN\", \"SVM\"]    \n",
        "\n",
        "for i in range(len(algorithms)):\n",
        "    print(\"The accuracy score achieved using \"+algorithms[i]+\" is: \"+str(scores[i])+\" %\")"
      ],
      "metadata": {
        "colab": {
          "base_uri": "https://localhost:8080/"
        },
        "id": "CLlCTN9LWVTW",
        "outputId": "f0ea1f25-d657-42ac-cf1a-b0db7842b821"
      },
      "execution_count": null,
      "outputs": [
        {
          "output_type": "stream",
          "name": "stdout",
          "text": [
            "The accuracy score achieved using Logistic Regression is: 0.81 %\n",
            "The accuracy score achieved using Naive Bayes is: 0.8525 %\n",
            "The accuracy score achieved using Random Classifier is: 0.7775 %\n",
            "The accuracy score achieved using Decision Tree is: 0.81 %\n",
            "The accuracy score achieved using KNN is: 0.8 %\n",
            "The accuracy score achieved using SVM is: 0.6775 %\n"
          ]
        }
      ]
    }
  ]
}